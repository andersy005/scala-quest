{
 "cells": [
  {
   "cell_type": "markdown",
   "metadata": {
    "toc": true
   },
   "source": [
    "<h1>Table of Contents<span class=\"tocSkip\"></span></h1>\n",
    "<div class=\"toc\" style=\"margin-top: 1em;\"><ul class=\"toc-item\"><li><span><a href=\"#Simple-Classes-and-Parameterless-Methods\" data-toc-modified-id=\"Simple-Classes-and-Parameterless-Methods-1\"><span class=\"toc-item-num\">1&nbsp;&nbsp;</span>Simple Classes and Parameterless Methods</a></span></li><li><span><a href=\"#Properties-with-Getters-and-Setters\" data-toc-modified-id=\"Properties-with-Getters-and-Setters-2\"><span class=\"toc-item-num\">2&nbsp;&nbsp;</span>Properties with Getters and Setters</a></span></li><li><span><a href=\"#Properties-with-Only-Getters\" data-toc-modified-id=\"Properties-with-Only-Getters-3\"><span class=\"toc-item-num\">3&nbsp;&nbsp;</span>Properties with Only Getters</a></span></li><li><span><a href=\"#Object-Private-Fields\" data-toc-modified-id=\"Object-Private-Fields-4\"><span class=\"toc-item-num\">4&nbsp;&nbsp;</span>Object-Private Fields</a></span></li><li><span><a href=\"#Bean-Properties\" data-toc-modified-id=\"Bean-Properties-5\"><span class=\"toc-item-num\">5&nbsp;&nbsp;</span>Bean Properties</a></span></li><li><span><a href=\"#Auxiliary-Constructors\" data-toc-modified-id=\"Auxiliary-Constructors-6\"><span class=\"toc-item-num\">6&nbsp;&nbsp;</span>Auxiliary Constructors</a></span></li><li><span><a href=\"#Primary-Constructors\" data-toc-modified-id=\"Primary-Constructors-7\"><span class=\"toc-item-num\">7&nbsp;&nbsp;</span>Primary Constructors</a></span></li><li><span><a href=\"#Nested-Classes\" data-toc-modified-id=\"Nested-Classes-8\"><span class=\"toc-item-num\">8&nbsp;&nbsp;</span>Nested Classes</a></span></li><li><span><a href=\"#Key-Points\" data-toc-modified-id=\"Key-Points-9\"><span class=\"toc-item-num\">9&nbsp;&nbsp;</span>Key Points</a></span></li></ul></div>"
   ]
  },
  {
   "cell_type": "markdown",
   "metadata": {
    "heading_collapsed": true
   },
   "source": [
    "# Simple Classes and Parameterless Methods"
   ]
  },
  {
   "cell_type": "markdown",
   "metadata": {
    "hidden": true
   },
   "source": [
    "In its simplest form, a Scala class looks very much like its equivalent in Java or C++:\n"
   ]
  },
  {
   "cell_type": "code",
   "execution_count": 1,
   "metadata": {
    "hidden": true
   },
   "outputs": [
    {
     "data": {
      "text/plain": [
       "defined \u001b[32mclass\u001b[39m \u001b[36mCounter\u001b[39m"
      ]
     },
     "execution_count": 1,
     "metadata": {},
     "output_type": "execute_result"
    }
   ],
   "source": [
    "class Counter {\n",
    "    private var value = 0 // You must initialize the field\n",
    "    \n",
    "    // Methods are public by default\n",
    "    def increment(){    \n",
    "        value += 1\n",
    "    }\n",
    "    \n",
    "    def current() = value\n",
    "}"
   ]
  },
  {
   "cell_type": "markdown",
   "metadata": {
    "hidden": true
   },
   "source": [
    "In Scala, a class is **not declared as public**. A Scala source file can contain multiple classes, and all\n",
    "of them have public visibility.\n"
   ]
  },
  {
   "cell_type": "markdown",
   "metadata": {
    "hidden": true
   },
   "source": [
    "- To use this class, you construct objects and invoke methods in the usual way:\n"
   ]
  },
  {
   "cell_type": "code",
   "execution_count": 2,
   "metadata": {
    "hidden": true
   },
   "outputs": [
    {
     "data": {
      "text/plain": [
       "\u001b[36mmyCounter\u001b[39m: \u001b[32mCounter\u001b[39m = $sess.cmd0Wrapper$Helper$Counter@516115a4"
      ]
     },
     "execution_count": 2,
     "metadata": {},
     "output_type": "execute_result"
    }
   ],
   "source": [
    "val myCounter = new Counter ()"
   ]
  },
  {
   "cell_type": "code",
   "execution_count": 3,
   "metadata": {
    "hidden": true
   },
   "outputs": [],
   "source": [
    "myCounter.increment()"
   ]
  },
  {
   "cell_type": "code",
   "execution_count": 4,
   "metadata": {
    "hidden": true
   },
   "outputs": [
    {
     "data": {
      "text/plain": [
       "\u001b[36mres3\u001b[39m: \u001b[32mInt\u001b[39m = \u001b[32m1\u001b[39m"
      ]
     },
     "execution_count": 4,
     "metadata": {},
     "output_type": "execute_result"
    }
   ],
   "source": [
    "myCounter.current"
   ]
  },
  {
   "cell_type": "code",
   "execution_count": 5,
   "metadata": {
    "hidden": true
   },
   "outputs": [
    {
     "data": {
      "text/plain": [
       "\u001b[36mres4\u001b[39m: \u001b[32mInt\u001b[39m = \u001b[32m1\u001b[39m"
      ]
     },
     "execution_count": 5,
     "metadata": {},
     "output_type": "execute_result"
    }
   ],
   "source": [
    "myCounter.current()"
   ]
  },
  {
   "cell_type": "markdown",
   "metadata": {
    "hidden": true
   },
   "source": [
    "Which form should you use? It is considered good style to use ```()``` for a mutator method (a method\n",
    "that changes the object state), and to drop the ```()``` for an accessor method (a method that does not change the object state).\n"
   ]
  },
  {
   "cell_type": "code",
   "execution_count": 6,
   "metadata": {
    "hidden": true
   },
   "outputs": [
    {
     "name": "stdout",
     "output_type": "stream",
     "text": [
      "2\n"
     ]
    }
   ],
   "source": [
    "myCounter.increment() // Use () with mutator\n",
    "println(myCounter.current) // Don't use () with accessor"
   ]
  },
  {
   "cell_type": "markdown",
   "metadata": {
    "hidden": true
   },
   "source": [
    "You can enforce this style by declaring current without ():\n",
    "Click here to view code image\n",
    "\n",
    "```scala\n",
    "class Counter {\n",
    "...\n",
    "def current = value // No () in definition\n",
    "}\n",
    "\n",
    "```\n",
    "Now class users must use myCounter.current, without parentheses.\n"
   ]
  },
  {
   "cell_type": "markdown",
   "metadata": {},
   "source": [
    "# Properties with Getters and Setters"
   ]
  },
  {
   "cell_type": "markdown",
   "metadata": {},
   "source": [
    "When writing a Java class, we don’t like to use public fields:\n",
    "\n",
    "```java\n",
    "public class Person { // This is Java\n",
    "    public int age; // Frowned upon in Java\n",
    "}\n",
    "\n",
    "```\n",
    "With a public field, anyone could write to ```fred.age```, making Fred younger or older. That’s why we\n",
    "prefer to use getter and setter methods:\n"
   ]
  },
  {
   "cell_type": "markdown",
   "metadata": {},
   "source": [
    "```java\n",
    "public class Person { // This is Java\n",
    "    private int age;\n",
    "    public int getAge() { return age; }\n",
    "    public void setAge(int age) { this.age = age; }\n",
    "}\n",
    "```"
   ]
  },
  {
   "cell_type": "markdown",
   "metadata": {},
   "source": [
    "- A getter/setter pair such as this one is often called a property. We say that the class Person has an\n",
    "age property.\n",
    "- Why is this any better? By itself, it isn’t. Anyone can call fred.setAge(21), keeping him forever\n",
    "twenty-one.\n",
    "- But if that becomes a problem, we can guard against it:\n"
   ]
  },
  {
   "cell_type": "markdown",
   "metadata": {},
   "source": [
    "```java\n",
    "public void setAge(int newValue) { \n",
    "    if (newValue > age) age = newValue; // Can't get younger\n",
    "    }\n",
    "```"
   ]
  },
  {
   "cell_type": "markdown",
   "metadata": {},
   "source": [
    "**NOTE:** Just because getters and setters are better than public fields doesn’t mean they are always\n",
    "good. Often, it is plainly bad if every client can get or set bits and pieces of an object’s state.\n"
   ]
  },
  {
   "cell_type": "code",
   "execution_count": 7,
   "metadata": {},
   "outputs": [
    {
     "data": {
      "text/plain": [
       "defined \u001b[32mclass\u001b[39m \u001b[36mPerson\u001b[39m"
      ]
     },
     "execution_count": 7,
     "metadata": {},
     "output_type": "execute_result"
    }
   ],
   "source": [
    "class Person {\n",
    "    var age = 0\n",
    "}"
   ]
  },
  {
   "cell_type": "markdown",
   "metadata": {},
   "source": [
    "- Scala generates a class for the JVM with a private age field and getter and setter methods. These\n",
    "methods are public because we did not declare age as private. (For a private field, the getter and\n",
    "setter methods are private.)\n",
    "- In Scala, the getter and setter methods are called age and age_=. For example,\n"
   ]
  },
  {
   "cell_type": "code",
   "execution_count": 8,
   "metadata": {},
   "outputs": [
    {
     "data": {
      "text/plain": [
       "\u001b[36mfred\u001b[39m: \u001b[32mPerson\u001b[39m = $sess.cmd6Wrapper$Helper$Person@a0ee69ff"
      ]
     },
     "execution_count": 8,
     "metadata": {},
     "output_type": "execute_result"
    }
   ],
   "source": [
    "val fred = new Person()"
   ]
  },
  {
   "cell_type": "code",
   "execution_count": 9,
   "metadata": {},
   "outputs": [
    {
     "data": {
      "text/plain": [
       "\u001b[36mres8\u001b[39m: \u001b[32mPerson\u001b[39m = $sess.cmd6Wrapper$Helper$Person@a0ee69ff"
      ]
     },
     "execution_count": 9,
     "metadata": {},
     "output_type": "execute_result"
    }
   ],
   "source": [
    "fred"
   ]
  },
  {
   "cell_type": "code",
   "execution_count": 10,
   "metadata": {},
   "outputs": [
    {
     "data": {
      "text/plain": [
       "\u001b[36mres9\u001b[39m: \u001b[32mInt\u001b[39m = \u001b[32m0\u001b[39m"
      ]
     },
     "execution_count": 10,
     "metadata": {},
     "output_type": "execute_result"
    }
   ],
   "source": [
    "fred.age     // Calls the method fred.age()"
   ]
  },
  {
   "cell_type": "code",
   "execution_count": 11,
   "metadata": {},
   "outputs": [],
   "source": [
    "fred.age = 21  // Calls fred.age_ = 21"
   ]
  },
  {
   "cell_type": "code",
   "execution_count": 12,
   "metadata": {},
   "outputs": [
    {
     "data": {
      "text/plain": [
       "\u001b[36mres11\u001b[39m: \u001b[32mInt\u001b[39m = \u001b[32m21\u001b[39m"
      ]
     },
     "execution_count": 12,
     "metadata": {},
     "output_type": "execute_result"
    }
   ],
   "source": [
    "fred.age"
   ]
  },
  {
   "cell_type": "markdown",
   "metadata": {},
   "source": [
    "- In Scala, the getters and setters are not named getXxx and setXxx, but they fulfill the same purpose.\n"
   ]
  },
  {
   "cell_type": "markdown",
   "metadata": {},
   "source": [
    "- At any time, you can redefine the getter and setter methods yourself. For example,\n"
   ]
  },
  {
   "cell_type": "code",
   "execution_count": 13,
   "metadata": {},
   "outputs": [
    {
     "data": {
      "text/plain": [
       "defined \u001b[32mclass\u001b[39m \u001b[36mPerson\u001b[39m"
      ]
     },
     "execution_count": 13,
     "metadata": {},
     "output_type": "execute_result"
    }
   ],
   "source": [
    "class Person {\n",
    "    private var privateAge = 0\n",
    "    \n",
    "    def age = privateAge\n",
    "    def age_= (newValue: Int) {\n",
    "        if (newValue > privateAge) \n",
    "        privateAge = newValue; // Can't get younger\n",
    "    }  \n",
    " \n",
    "}"
   ]
  },
  {
   "cell_type": "code",
   "execution_count": 14,
   "metadata": {},
   "outputs": [
    {
     "data": {
      "text/plain": [
       "\u001b[36mfred\u001b[39m: \u001b[32mPerson\u001b[39m = $sess.cmd12Wrapper$Helper$Person@db3a9849"
      ]
     },
     "execution_count": 14,
     "metadata": {},
     "output_type": "execute_result"
    }
   ],
   "source": [
    "val fred = new Person"
   ]
  },
  {
   "cell_type": "code",
   "execution_count": 15,
   "metadata": {},
   "outputs": [],
   "source": [
    "fred.age = 30"
   ]
  },
  {
   "cell_type": "code",
   "execution_count": 16,
   "metadata": {},
   "outputs": [
    {
     "data": {
      "text/plain": [
       "\u001b[36mres15\u001b[39m: \u001b[32mInt\u001b[39m = \u001b[32m30\u001b[39m"
      ]
     },
     "execution_count": 16,
     "metadata": {},
     "output_type": "execute_result"
    }
   ],
   "source": [
    "fred.age"
   ]
  },
  {
   "cell_type": "code",
   "execution_count": 17,
   "metadata": {},
   "outputs": [],
   "source": [
    "fred.age = 21"
   ]
  },
  {
   "cell_type": "code",
   "execution_count": 18,
   "metadata": {},
   "outputs": [
    {
     "data": {
      "text/plain": [
       "\u001b[36mres17\u001b[39m: \u001b[32mInt\u001b[39m = \u001b[32m30\u001b[39m"
      ]
     },
     "execution_count": 18,
     "metadata": {},
     "output_type": "execute_result"
    }
   ],
   "source": [
    "fred.age"
   ]
  },
  {
   "cell_type": "markdown",
   "metadata": {},
   "source": [
    "It may sound scary that Scala generates getter and setter methods for every field. But you have\n",
    "some control over this process.\n",
    "- If the field is private, the getter and setter are ```private```.\n",
    "- If the field is a val, only a getter is generated.\n",
    "- If you don’t want any getter or setter, declare the field as ```private[this]```\n"
   ]
  },
  {
   "cell_type": "markdown",
   "metadata": {},
   "source": [
    "# Properties with Only Getters"
   ]
  },
  {
   "cell_type": "markdown",
   "metadata": {},
   "source": [
    "- Sometimes you want a read-only property with a getter but no setter. If the value of the property\n",
    "never changes after the object has been constructed, use a ```val``` field:\n"
   ]
  },
  {
   "cell_type": "code",
   "execution_count": 19,
   "metadata": {},
   "outputs": [
    {
     "data": {
      "text/plain": [
       "defined \u001b[32mclass\u001b[39m \u001b[36mMessage\u001b[39m"
      ]
     },
     "execution_count": 19,
     "metadata": {},
     "output_type": "execute_result"
    }
   ],
   "source": [
    "class Message {\n",
    "    val timestamp = java.time.Instant.now\n",
    "}"
   ]
  },
  {
   "cell_type": "code",
   "execution_count": 20,
   "metadata": {},
   "outputs": [
    {
     "data": {
      "text/plain": [
       "\u001b[36mmysms\u001b[39m: \u001b[32mMessage\u001b[39m = $sess.cmd18Wrapper$Helper$Message@1e8d3d0e"
      ]
     },
     "execution_count": 20,
     "metadata": {},
     "output_type": "execute_result"
    }
   ],
   "source": [
    "val mysms = new Message()"
   ]
  },
  {
   "cell_type": "code",
   "execution_count": 21,
   "metadata": {},
   "outputs": [
    {
     "data": {
      "text/plain": [
       "\u001b[36mres20\u001b[39m: \u001b[32mjava\u001b[39m.\u001b[32mtime\u001b[39m.\u001b[32mInstant\u001b[39m = 2017-12-06T00:35:53.679Z"
      ]
     },
     "execution_count": 21,
     "metadata": {},
     "output_type": "execute_result"
    }
   ],
   "source": [
    "mysms.timestamp"
   ]
  },
  {
   "cell_type": "markdown",
   "metadata": {},
   "source": [
    "- The Scala compiler produces a Java class with a private final field and a public getter method, but\n",
    "no setter.\n",
    "- Sometimes, however, you want a property that a client can’t set at will, but that is mutated in some other way."
   ]
  },
  {
   "cell_type": "markdown",
   "metadata": {},
   "source": [
    "To summarize, you have four choices for implementing properties:\n",
    "1. ```var foo```: Scala synthesizes a getter and a setter.\n",
    "2. ```val foo:``` Scala synthesizes a getter.\n",
    "3. You define methods ```foo``` and ```foo_=```.\n",
    "4. You define a method ```foo```.\n"
   ]
  },
  {
   "cell_type": "markdown",
   "metadata": {},
   "source": [
    "# Object-Private Fields"
   ]
  },
  {
   "cell_type": "markdown",
   "metadata": {},
   "source": [
    "- In Scala (as well as in Java or C++), a method can access the private fields of all objects of its class.\n"
   ]
  },
  {
   "cell_type": "code",
   "execution_count": 22,
   "metadata": {},
   "outputs": [
    {
     "data": {
      "text/plain": [
       "defined \u001b[32mclass\u001b[39m \u001b[36mCounter\u001b[39m"
      ]
     },
     "execution_count": 22,
     "metadata": {},
     "output_type": "execute_result"
    }
   ],
   "source": [
    "class Counter {\n",
    "    private var value = 0\n",
    "    \n",
    "    def increment() { value += 1}\n",
    "    \n",
    "    // Can access private field of other object\n",
    "    def isLess(other: Counter) = value < other.value\n",
    "}"
   ]
  },
  {
   "cell_type": "markdown",
   "metadata": {},
   "source": [
    "# Bean Properties"
   ]
  },
  {
   "cell_type": "code",
   "execution_count": 23,
   "metadata": {},
   "outputs": [
    {
     "data": {
      "text/plain": [
       "\u001b[32mimport \u001b[39m\u001b[36mscala.beans.BeanProperty\u001b[39m"
      ]
     },
     "execution_count": 23,
     "metadata": {},
     "output_type": "execute_result"
    }
   ],
   "source": [
    "import scala.beans.BeanProperty"
   ]
  },
  {
   "cell_type": "code",
   "execution_count": 24,
   "metadata": {},
   "outputs": [
    {
     "data": {
      "text/plain": [
       "defined \u001b[32mclass\u001b[39m \u001b[36mPerson\u001b[39m"
      ]
     },
     "execution_count": 24,
     "metadata": {},
     "output_type": "execute_result"
    }
   ],
   "source": [
    "class Person {\n",
    "    @BeanProperty var name: String = _\n",
    "}"
   ]
  },
  {
   "cell_type": "markdown",
   "metadata": {},
   "source": [
    "# Auxiliary Constructors"
   ]
  },
  {
   "cell_type": "code",
   "execution_count": 25,
   "metadata": {},
   "outputs": [
    {
     "data": {
      "text/plain": [
       "defined \u001b[32mclass\u001b[39m \u001b[36mPerson\u001b[39m"
      ]
     },
     "execution_count": 25,
     "metadata": {},
     "output_type": "execute_result"
    }
   ],
   "source": [
    "class Person {\n",
    "    private var name = \"\"\n",
    "    private var age = 0\n",
    "    \n",
    "    def this(name: String) {  // An auxiliary constructor\n",
    "        this () // Calls primary constructor\n",
    "        this.name = name\n",
    "    }\n",
    "    \n",
    "    def this(name: String, age: Int){ // Another auxiliary constructor\n",
    "        this(name)   // Calls previous auxiliary constructor\n",
    "        this.age = age\n",
    "    }\n",
    "}"
   ]
  },
  {
   "cell_type": "code",
   "execution_count": 26,
   "metadata": {},
   "outputs": [
    {
     "data": {
      "text/plain": [
       "\u001b[36mp1\u001b[39m: \u001b[32mPerson\u001b[39m = $sess.cmd24Wrapper$Helper$Person@5f19a8ac"
      ]
     },
     "execution_count": 26,
     "metadata": {},
     "output_type": "execute_result"
    }
   ],
   "source": [
    "val p1 = new Person  // Primary constructor"
   ]
  },
  {
   "cell_type": "code",
   "execution_count": 28,
   "metadata": {},
   "outputs": [
    {
     "data": {
      "text/plain": [
       "\u001b[36mp2\u001b[39m: \u001b[32mPerson\u001b[39m = $sess.cmd24Wrapper$Helper$Person@4c335db6"
      ]
     },
     "execution_count": 28,
     "metadata": {},
     "output_type": "execute_result"
    }
   ],
   "source": [
    "val p2 = new Person(\"Fred\")  // First auxiliary constructor"
   ]
  },
  {
   "cell_type": "code",
   "execution_count": 29,
   "metadata": {},
   "outputs": [
    {
     "data": {
      "text/plain": [
       "\u001b[36mp3\u001b[39m: \u001b[32mPerson\u001b[39m = $sess.cmd24Wrapper$Helper$Person@87eb8849"
      ]
     },
     "execution_count": 29,
     "metadata": {},
     "output_type": "execute_result"
    }
   ],
   "source": [
    "val p3 = new Person(\"Fred\", 42)  // Second auxiliary constructor"
   ]
  },
  {
   "cell_type": "markdown",
   "metadata": {},
   "source": [
    "# Primary Constructors"
   ]
  },
  {
   "cell_type": "markdown",
   "metadata": {},
   "source": [
    "- In Scala, every class has a primary constructor. The primary constructor is not defined with a ```this``` method. Instead, it is interwoven with the class definition."
   ]
  },
  {
   "cell_type": "markdown",
   "metadata": {},
   "source": [
    "- The parameters of the primary constructor are placed *immediately after the class name*\n",
    "\n",
    "```scala\n",
    "class Person(val name: String, val age: Int) {\n",
    "    // Parameters of primary constructor in (...)\n",
    "    ...\n",
    "       }\n",
    "```"
   ]
  },
  {
   "cell_type": "markdown",
   "metadata": {},
   "source": [
    "- The primary constructor executes all statements in the class definition. For example, in the following class\n",
    "\n",
    "```scala\n",
    "class Person(val name: String, val age: Int) {\n",
    "    println(\"Just constructed another person\")\n",
    "    def description = s\"$name is $age years old\"\n",
    "    }\n",
    "```"
   ]
  },
  {
   "cell_type": "markdown",
   "metadata": {},
   "source": [
    "# Nested Classes"
   ]
  },
  {
   "cell_type": "code",
   "execution_count": 30,
   "metadata": {},
   "outputs": [
    {
     "data": {
      "text/plain": [
       "\u001b[32mimport \u001b[39m\u001b[36mscala.collection.mutable.ArrayBuffer\u001b[39m"
      ]
     },
     "execution_count": 30,
     "metadata": {},
     "output_type": "execute_result"
    }
   ],
   "source": [
    "import scala.collection.mutable.ArrayBuffer"
   ]
  },
  {
   "cell_type": "code",
   "execution_count": 31,
   "metadata": {},
   "outputs": [
    {
     "data": {
      "text/plain": [
       "defined \u001b[32mclass\u001b[39m \u001b[36mNetwork\u001b[39m"
      ]
     },
     "execution_count": 31,
     "metadata": {},
     "output_type": "execute_result"
    }
   ],
   "source": [
    "class Network {\n",
    "    class Member(val name: String) {\n",
    "        val contacts = new ArrayBuffer[Member]\n",
    "    }\n",
    "    \n",
    "    private val members = new ArrayBuffer[Member]\n",
    "    \n",
    "    def join(name: String) = {\n",
    "        val m = new Member(name)\n",
    "        members += m\n",
    "        m\n",
    "    }\n",
    "}"
   ]
  },
  {
   "cell_type": "code",
   "execution_count": 32,
   "metadata": {},
   "outputs": [
    {
     "data": {
      "text/plain": [
       "\u001b[36mchatter\u001b[39m: \u001b[32mNetwork\u001b[39m = $sess.cmd30Wrapper$Helper$Network@6d257d62\n",
       "\u001b[36mmyFace\u001b[39m: \u001b[32mNetwork\u001b[39m = $sess.cmd30Wrapper$Helper$Network@f648e1e8"
      ]
     },
     "execution_count": 32,
     "metadata": {},
     "output_type": "execute_result"
    }
   ],
   "source": [
    "val chatter = new Network\n",
    "val myFace = new Network"
   ]
  },
  {
   "cell_type": "code",
   "execution_count": 33,
   "metadata": {},
   "outputs": [
    {
     "data": {
      "text/plain": [
       "\u001b[36mfred\u001b[39m: \u001b[32mchatter\u001b[39m.\u001b[32mMember\u001b[39m = $sess.cmd30Wrapper$Helper$Network$Member@8a2029b4\n",
       "\u001b[36mwilma\u001b[39m: \u001b[32mchatter\u001b[39m.\u001b[32mMember\u001b[39m = $sess.cmd30Wrapper$Helper$Network$Member@af2c346"
      ]
     },
     "execution_count": 33,
     "metadata": {},
     "output_type": "execute_result"
    }
   ],
   "source": [
    "val fred = chatter.join(\"Fred\")\n",
    "val wilma = chatter.join(\"Wilma\")"
   ]
  },
  {
   "cell_type": "code",
   "execution_count": 35,
   "metadata": {},
   "outputs": [
    {
     "data": {
      "text/plain": [
       "\u001b[36mres34\u001b[39m: \u001b[32mArrayBuffer\u001b[39m[\u001b[32mchatter\u001b[39m.\u001b[32mMember\u001b[39m] = \u001b[33mArrayBuffer\u001b[39m($sess.cmd30Wrapper$Helper$Network$Member@af2c346)"
      ]
     },
     "execution_count": 35,
     "metadata": {},
     "output_type": "execute_result"
    }
   ],
   "source": [
    "fred.contacts += wilma"
   ]
  },
  {
   "cell_type": "code",
   "execution_count": 37,
   "metadata": {},
   "outputs": [
    {
     "data": {
      "text/plain": [
       "\u001b[36mbarney\u001b[39m: \u001b[32mmyFace\u001b[39m.\u001b[32mMember\u001b[39m = $sess.cmd30Wrapper$Helper$Network$Member@68a7769a"
      ]
     },
     "execution_count": 37,
     "metadata": {},
     "output_type": "execute_result"
    }
   ],
   "source": [
    "val barney = myFace.join(\"Barney\")"
   ]
  },
  {
   "cell_type": "code",
   "execution_count": 37,
   "metadata": {},
   "outputs": [
    {
     "name": "stderr",
     "output_type": "stream",
     "text": [
      "cmd37.sc:1: type mismatch;\n",
      " found   : cmd37Wrapper.this.cmd36.cmd31.wrapper.myFace.Member\n",
      " required: cmd37Wrapper.this.cmd32.cmd31.wrapper.chatter.Member\n",
      "val res37 = fred.contacts += barney\n",
      "                             ^"
     ]
    },
    {
     "ename": "",
     "evalue": "",
     "output_type": "error",
     "traceback": [
      "Compilation Failed"
     ]
    }
   ],
   "source": [
    "fred.contacts += barney"
   ]
  },
  {
   "cell_type": "markdown",
   "metadata": {},
   "source": [
    "# Key Points\n",
    "\n",
    "- Fields in classes automatically come with getters and setters.\n",
    "- You can replace a field with a custom getter/setter without changing the client of a class—that\n",
    "is the “uniform access principle.”\n",
    "- Use the ```@BeanProperty``` annotation to generate the JavaBeans getXxx/setXxx methods.\n",
    "- Every class has a primary constructor that is “interwoven” with the class definition. Its\n",
    "parameters turn into the fields of the class. The primary constructor executes all statements in\n",
    "the body of the class.\n",
    "- Auxiliary constructors are optional. They are called this.\n"
   ]
  }
 ],
 "metadata": {
  "kernelspec": {
   "display_name": "Scala",
   "language": "scala",
   "name": "scala"
  },
  "language_info": {
   "codemirror_mode": "text/x-scala",
   "file_extension": ".scala",
   "mimetype": "text/x-scala",
   "name": "scala211",
   "nbconvert_exporter": "script",
   "pygments_lexer": "scala",
   "version": "2.11.11"
  },
  "toc": {
   "nav_menu": {},
   "number_sections": true,
   "sideBar": true,
   "skip_h1_title": false,
   "toc_cell": true,
   "toc_position": {},
   "toc_section_display": "block",
   "toc_window_display": false
  }
 },
 "nbformat": 4,
 "nbformat_minor": 2
}
