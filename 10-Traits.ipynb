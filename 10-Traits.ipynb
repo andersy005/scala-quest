{
 "cells": [
  {
   "cell_type": "markdown",
   "metadata": {
    "toc": true
   },
   "source": [
    "<h1>Table of Contents<span class=\"tocSkip\"></span></h1>\n",
    "<div class=\"toc\" style=\"margin-top: 1em;\"><ul class=\"toc-item\"><li><span><a href=\"#Why-No-Multiple-Inheritance?\" data-toc-modified-id=\"Why-No-Multiple-Inheritance?-1\"><span class=\"toc-item-num\">1&nbsp;&nbsp;</span>Why No Multiple Inheritance?</a></span></li><li><span><a href=\"#Traits-as-Interfaces\" data-toc-modified-id=\"Traits-as-Interfaces-2\"><span class=\"toc-item-num\">2&nbsp;&nbsp;</span>Traits as Interfaces</a></span></li></ul></div>"
   ]
  },
  {
   "cell_type": "markdown",
   "metadata": {},
   "source": [
    "# Why No Multiple Inheritance?"
   ]
  },
  {
   "cell_type": "markdown",
   "metadata": {},
   "source": [
    "- Scala, like Java, does not allow a class to inherit from multiple superclasses.\n",
    "\n",
    "- At first, this seems like an unfortunate restriction. Why shouldn't a class extend multiple classes? \n",
    "\n",
    "- Some programming languages, in particular C++, allow multiple inheritance--but at a surprisingly high cost.\n",
    "\n",
    "- Multiple inheritance works fine when you combine classes that have **nothing in common**. But if these classes have common methods or fields, thorny issues come up."
   ]
  },
  {
   "cell_type": "markdown",
   "metadata": {},
   "source": [
    "```scala\n",
    "class Student {\n",
    "    def id: String = ...\n",
    "    ...\n",
    "}\n",
    "class Employee {\n",
    "    def id: String = ...\n",
    "    ...\n",
    "}\n",
    "\n",
    "```\n",
    "Suppose we could have\n",
    "\n",
    "```scala\n",
    "class TeachingAssistant extends Student, Employee {\n",
    " // Not actual Scala code\n",
    "    ...\n",
    "}\n",
    "```\n",
    "\n",
    "- Unfortunately, this ```TeachingAssistant``` class inherits two id methods. What should ```myTA.id```return? The student ID? The employee ID? Both? (In C++, you need to redefine the id method to clarify what you want.)\n",
    "\n",
    "- Next, suppose that both Student and Employee extend a common superclass Person:\n",
    "\n",
    "```scala\n",
    "class Person {\n",
    "var name: String = _\n",
    "}\n",
    "class Student extends Person { ... }\n",
    "class Employee extends Person { ... }\n",
    "```\n",
    "\n",
    "- This leads to the diamond inheritance problem. We only want one name field inside a TeachingAssistant, not two. How do the fields get merged? How does the field get constructed? In C++, you use “virtual base classes,” a complex and brittle feature, to address this issue.\n"
   ]
  },
  {
   "cell_type": "markdown",
   "metadata": {},
   "source": [
    "- Scala has traits instead of interfaces. A trait can have abstract and concrete methods, as well as state,\n",
    "and a class can implement multiple traits. This neatly solves the problem of Java interfaces. You will\n",
    "see in the following sections how Scala deals with the perils of conflicting features from multiple\n",
    "traits.\n"
   ]
  },
  {
   "cell_type": "markdown",
   "metadata": {},
   "source": [
    "# Traits as Interfaces"
   ]
  },
  {
   "cell_type": "code",
   "execution_count": 1,
   "metadata": {},
   "outputs": [
    {
     "data": {
      "text/plain": [
       "defined \u001b[32mtrait\u001b[39m \u001b[36mLogger\u001b[39m"
      ]
     },
     "execution_count": 1,
     "metadata": {},
     "output_type": "execute_result"
    }
   ],
   "source": [
    "trait Logger {\n",
    "    def log(msg: String) // Abstract method\n",
    "}"
   ]
  },
  {
   "cell_type": "code",
   "execution_count": 2,
   "metadata": {},
   "outputs": [
    {
     "data": {
      "text/plain": [
       "defined \u001b[32mclass\u001b[39m \u001b[36mConsoleLogger\u001b[39m"
      ]
     },
     "execution_count": 2,
     "metadata": {},
     "output_type": "execute_result"
    }
   ],
   "source": [
    "class ConsoleLogger extends Logger { // Use extends, not implements\n",
    "    def log(msg: String) { println(msg)}\n",
    "    \n",
    "}"
   ]
  },
  {
   "cell_type": "markdown",
   "metadata": {},
   "source": [
    "- If you need more than one trait:"
   ]
  },
  {
   "cell_type": "code",
   "execution_count": 3,
   "metadata": {},
   "outputs": [
    {
     "data": {
      "text/plain": [
       "defined \u001b[32mclass\u001b[39m \u001b[36mConsoleLogger\u001b[39m"
      ]
     },
     "execution_count": 3,
     "metadata": {},
     "output_type": "execute_result"
    }
   ],
   "source": [
    "class ConsoleLogger extends Logger with Cloneable with Serializable { // Use extends, not implements\n",
    "    def log(msg: String) { println(msg)}\n",
    "    \n",
    "}"
   ]
  },
  {
   "cell_type": "code",
   "execution_count": null,
   "metadata": {},
   "outputs": [],
   "source": []
  }
 ],
 "metadata": {
  "kernelspec": {
   "display_name": "Scala",
   "language": "scala",
   "name": "scala"
  },
  "language_info": {
   "codemirror_mode": "text/x-scala",
   "file_extension": ".scala",
   "mimetype": "text/x-scala",
   "name": "scala211",
   "nbconvert_exporter": "script",
   "pygments_lexer": "scala",
   "version": "2.11.11"
  },
  "toc": {
   "nav_menu": {},
   "number_sections": true,
   "sideBar": true,
   "skip_h1_title": false,
   "toc_cell": true,
   "toc_position": {},
   "toc_section_display": "block",
   "toc_window_display": false
  }
 },
 "nbformat": 4,
 "nbformat_minor": 2
}
