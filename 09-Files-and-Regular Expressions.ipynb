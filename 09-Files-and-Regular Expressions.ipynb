{
 "cells": [
  {
   "cell_type": "markdown",
   "metadata": {
    "toc": true
   },
   "source": [
    "<h1>Table of Contents<span class=\"tocSkip\"></span></h1>\n",
    "<div class=\"toc\" style=\"margin-top: 1em;\"><ul class=\"toc-item\"><li><span><a href=\"#Reading-Lines\" data-toc-modified-id=\"Reading-Lines-1\"><span class=\"toc-item-num\">1&nbsp;&nbsp;</span>Reading Lines</a></span></li><li><span><a href=\"#Reading-Characters\" data-toc-modified-id=\"Reading-Characters-2\"><span class=\"toc-item-num\">2&nbsp;&nbsp;</span>Reading Characters</a></span></li><li><span><a href=\"#Reading-Tokens-and-Numbers\" data-toc-modified-id=\"Reading-Tokens-and-Numbers-3\"><span class=\"toc-item-num\">3&nbsp;&nbsp;</span>Reading Tokens and Numbers</a></span></li><li><span><a href=\"#Reading-from-URLs-and-Other-Sources\" data-toc-modified-id=\"Reading-from-URLs-and-Other-Sources-4\"><span class=\"toc-item-num\">4&nbsp;&nbsp;</span>Reading from URLs and Other Sources</a></span></li><li><span><a href=\"#Writing-Text-Files\" data-toc-modified-id=\"Writing-Text-Files-5\"><span class=\"toc-item-num\">5&nbsp;&nbsp;</span>Writing Text Files</a></span></li><li><span><a href=\"#Visiting-Directories\" data-toc-modified-id=\"Visiting-Directories-6\"><span class=\"toc-item-num\">6&nbsp;&nbsp;</span>Visiting Directories</a></span></li><li><span><a href=\"#Serialization\" data-toc-modified-id=\"Serialization-7\"><span class=\"toc-item-num\">7&nbsp;&nbsp;</span>Serialization</a></span></li><li><span><a href=\"#Process-Control\" data-toc-modified-id=\"Process-Control-8\"><span class=\"toc-item-num\">8&nbsp;&nbsp;</span>Process Control</a></span></li></ul></div>"
   ]
  },
  {
   "cell_type": "markdown",
   "metadata": {
    "heading_collapsed": true
   },
   "source": [
    "# Reading Lines"
   ]
  },
  {
   "cell_type": "markdown",
   "metadata": {
    "hidden": true
   },
   "source": [
    "- To Read all lines from a file, call the ```getLines``` method on a ```scala.io.Source``` object"
   ]
  },
  {
   "cell_type": "code",
   "execution_count": 1,
   "metadata": {
    "hidden": true
   },
   "outputs": [
    {
     "data": {
      "text/plain": [
       "\u001b[32mimport \u001b[39m\u001b[36mscala.io.Source\u001b[39m"
      ]
     },
     "execution_count": 1,
     "metadata": {},
     "output_type": "execute_result"
    }
   ],
   "source": [
    "import scala.io.Source"
   ]
  },
  {
   "cell_type": "code",
   "execution_count": 2,
   "metadata": {
    "hidden": true
   },
   "outputs": [
    {
     "data": {
      "text/plain": [
       "\u001b[36msource\u001b[39m: \u001b[32mio\u001b[39m.\u001b[32mBufferedSource\u001b[39m = non-empty iterator"
      ]
     },
     "execution_count": 2,
     "metadata": {},
     "output_type": "execute_result"
    }
   ],
   "source": [
    "val source = Source.fromFile(\"LICENSE\", \"UTF-8\")"
   ]
  },
  {
   "cell_type": "markdown",
   "metadata": {
    "hidden": true
   },
   "source": [
    "```val lineIterator = source.getLines```"
   ]
  },
  {
   "cell_type": "markdown",
   "metadata": {
    "hidden": true
   },
   "source": [
    "```for (1 <- lineIterator) process 1 ```"
   ]
  },
  {
   "cell_type": "markdown",
   "metadata": {
    "hidden": true
   },
   "source": [
    "- Or you can put the lines into an array or array buffer by applying the toArray or toBuffer\n",
    "method to the iterator:\n"
   ]
  },
  {
   "cell_type": "code",
   "execution_count": 3,
   "metadata": {
    "hidden": true
   },
   "outputs": [
    {
     "data": {
      "text/plain": [
       "\u001b[36mlines\u001b[39m: \u001b[32mArray\u001b[39m[\u001b[32mString\u001b[39m] = \u001b[33mArray\u001b[39m(\n",
       "  \u001b[32m\"MIT License\"\u001b[39m,\n",
       "  \u001b[32m\"\"\u001b[39m,\n",
       "  \u001b[32m\"Copyright (c) 2017 Anderson Banihirwe\"\u001b[39m,\n",
       "  \u001b[32m\"\"\u001b[39m,\n",
       "  \u001b[32m\"Permission is hereby granted, free of charge, to any person obtaining a copy\"\u001b[39m,\n",
       "  \u001b[32m\"\"\"\n",
       "of this software and associated documentation files (the \"Software\"), to deal\n",
       "  \"\"\"\u001b[39m,\n",
       "  \u001b[32m\"in the Software without restriction, including without limitation the rights\"\u001b[39m,\n",
       "\u001b[33m...\u001b[39m"
      ]
     },
     "execution_count": 3,
     "metadata": {},
     "output_type": "execute_result"
    }
   ],
   "source": [
    "val lines = source.getLines.toArray"
   ]
  },
  {
   "cell_type": "code",
   "execution_count": 4,
   "metadata": {
    "hidden": true
   },
   "outputs": [
    {
     "data": {
      "text/plain": [
       "\u001b[36mcontents\u001b[39m: \u001b[32mString\u001b[39m = \u001b[32m\"\"\u001b[39m"
      ]
     },
     "execution_count": 4,
     "metadata": {},
     "output_type": "execute_result"
    }
   ],
   "source": [
    "val contents = source.mkString"
   ]
  },
  {
   "cell_type": "code",
   "execution_count": 5,
   "metadata": {
    "hidden": true
   },
   "outputs": [],
   "source": [
    "source.close()"
   ]
  },
  {
   "cell_type": "markdown",
   "metadata": {
    "heading_collapsed": true
   },
   "source": [
    "# Reading Characters"
   ]
  },
  {
   "cell_type": "code",
   "execution_count": 6,
   "metadata": {
    "hidden": true
   },
   "outputs": [
    {
     "data": {
      "text/plain": [
       "\u001b[36msource\u001b[39m: \u001b[32mio\u001b[39m.\u001b[32mBufferedSource\u001b[39m = non-empty iterator\n",
       "\u001b[36miter\u001b[39m: \u001b[32mBufferedIterator\u001b[39m[\u001b[32mChar\u001b[39m] = non-empty iterator"
      ]
     },
     "execution_count": 6,
     "metadata": {},
     "output_type": "execute_result"
    }
   ],
   "source": [
    "val source = Source.fromFile(\"LICENSE\", \"UTF-8\")\n",
    "val iter = source.buffered"
   ]
  },
  {
   "cell_type": "code",
   "execution_count": 7,
   "metadata": {
    "hidden": true
   },
   "outputs": [
    {
     "data": {
      "text/plain": [
       "\u001b[36mcontents\u001b[39m: \u001b[32mString\u001b[39m = \u001b[32m\"\"\"\n",
       "MIT License\n",
       "\n",
       "Copyright (c) 2017 Anderson Banihirwe\n",
       "\n",
       "Permission is hereby granted, free of charge, to any person obtaining a copy\n",
       "of this software and associated documentation files (the \"Software\"), to deal\n",
       "in the Software without restriction, including without limitation the rights\n",
       "to use, copy, modify, merge, publish, distribute, sublicense, and/or sell\n",
       "copies of the Software, and to permit persons to whom the Software is\n",
       "furnished to do so, subject to the following conditions:\n",
       "\n",
       "\u001b[33m...\u001b[39m"
      ]
     },
     "execution_count": 7,
     "metadata": {},
     "output_type": "execute_result"
    }
   ],
   "source": [
    "val contents = source.mkString"
   ]
  },
  {
   "cell_type": "markdown",
   "metadata": {
    "heading_collapsed": true
   },
   "source": [
    "# Reading Tokens and Numbers"
   ]
  },
  {
   "cell_type": "markdown",
   "metadata": {
    "hidden": true
   },
   "source": [
    "- Here is a quick-and-dirty way of reading all whitespace-separated tokens in a source:\n"
   ]
  },
  {
   "cell_type": "code",
   "execution_count": 8,
   "metadata": {
    "hidden": true
   },
   "outputs": [
    {
     "data": {
      "text/plain": [
       "\u001b[36mtokens\u001b[39m: \u001b[32mArray\u001b[39m[\u001b[32mString\u001b[39m] = \u001b[33mArray\u001b[39m(\n",
       "  \u001b[32m\"MIT\"\u001b[39m,\n",
       "  \u001b[32m\"License\"\u001b[39m,\n",
       "  \u001b[32m\"Copyright\"\u001b[39m,\n",
       "  \u001b[32m\"(c)\"\u001b[39m,\n",
       "  \u001b[32m\"2017\"\u001b[39m,\n",
       "  \u001b[32m\"Anderson\"\u001b[39m,\n",
       "  \u001b[32m\"Banihirwe\"\u001b[39m,\n",
       "  \u001b[32m\"Permission\"\u001b[39m,\n",
       "  \u001b[32m\"is\"\u001b[39m,\n",
       "  \u001b[32m\"hereby\"\u001b[39m,\n",
       "  \u001b[32m\"granted,\"\u001b[39m,\n",
       "\u001b[33m...\u001b[39m"
      ]
     },
     "execution_count": 8,
     "metadata": {},
     "output_type": "execute_result"
    }
   ],
   "source": [
    "val tokens = contents.split(\"\\\\s+\")"
   ]
  },
  {
   "cell_type": "markdown",
   "metadata": {
    "heading_collapsed": true
   },
   "source": [
    "# Reading from URLs and Other Sources"
   ]
  },
  {
   "cell_type": "code",
   "execution_count": 9,
   "metadata": {
    "hidden": true
   },
   "outputs": [
    {
     "data": {
      "text/plain": [
       "\u001b[36msource1\u001b[39m: \u001b[32mio\u001b[39m.\u001b[32mBufferedSource\u001b[39m = non-empty iterator\n",
       "\u001b[36msource2\u001b[39m: \u001b[32mSource\u001b[39m = non-empty iterator"
      ]
     },
     "execution_count": 9,
     "metadata": {},
     "output_type": "execute_result"
    }
   ],
   "source": [
    "val source1 = Source.fromURL(\"http://www.hellointernet.fm\", \"UTF-8\")\n",
    "val source2 = Source.fromString(\"Hello, World!\")"
   ]
  },
  {
   "cell_type": "code",
   "execution_count": 10,
   "metadata": {
    "hidden": true
   },
   "outputs": [
    {
     "data": {
      "text/plain": [
       "\u001b[36mres9\u001b[39m: \u001b[32mString\u001b[39m = \u001b[32m\"\"\"\n",
       "<!doctype html>\n",
       "<html xmlns:og=\"http://opengraphprotocol.org/schema/\" xmlns:fb=\"http://www.facebook.com/2008/fbml\" xmlns:website=\"http://ogp.me/ns/website\" lang=\"en-US\" itemscope itemtype=\"http://schema.org/WebPage\" >\n",
       "  <head>\n",
       "\t  \n",
       "\t  <meta name=\"viewport\" content=\"width=device-width, initial-scale=1\">\n",
       "\t  \n",
       "    <!-- This is Squarespace. --><!-- hellointernetfm -->\n",
       "<base href=\"\">\n",
       "<meta charset=\"utf-8\" />\n",
       "\u001b[33m...\u001b[39m"
      ]
     },
     "execution_count": 10,
     "metadata": {},
     "output_type": "execute_result"
    }
   ],
   "source": [
    "source1.mkString"
   ]
  },
  {
   "cell_type": "markdown",
   "metadata": {
    "heading_collapsed": true
   },
   "source": [
    "# Writing Text Files"
   ]
  },
  {
   "cell_type": "markdown",
   "metadata": {
    "hidden": true
   },
   "source": [
    "- Scala has no built-in support for writing files. \n",
    "- To write a text file, use a ```java.io.PrintWriter```"
   ]
  },
  {
   "cell_type": "code",
   "execution_count": 11,
   "metadata": {
    "hidden": true
   },
   "outputs": [
    {
     "data": {
      "text/plain": [
       "\u001b[36mout\u001b[39m: \u001b[32mjava\u001b[39m.\u001b[32mio\u001b[39m.\u001b[32mPrintWriter\u001b[39m = java.io.PrintWriter@ceeaa45"
      ]
     },
     "execution_count": 11,
     "metadata": {},
     "output_type": "execute_result"
    }
   ],
   "source": [
    "val out = new java.io.PrintWriter(\"numbers.txt\")"
   ]
  },
  {
   "cell_type": "code",
   "execution_count": 12,
   "metadata": {
    "hidden": true
   },
   "outputs": [],
   "source": [
    "for (i <- 1 to 100) out.println(i)"
   ]
  },
  {
   "cell_type": "code",
   "execution_count": 13,
   "metadata": {
    "hidden": true
   },
   "outputs": [],
   "source": [
    "out.close()"
   ]
  },
  {
   "cell_type": "markdown",
   "metadata": {},
   "source": [
    "# Visiting Directories"
   ]
  },
  {
   "cell_type": "markdown",
   "metadata": {},
   "source": [
    "- There are no \"official\" Scala classes for visiting all files in a directory, or for recursively traversing directories.\n",
    "\n",
    "- The simplest approach is to use the ```Files.list``` and ```Files.walk``` methods of the ```java.nio.file``` package. \n",
    "\n",
    "- The ```list``` method only visits the children of a directory, and the ```walk``` method visits all descendants.\n"
   ]
  },
  {
   "cell_type": "code",
   "execution_count": 14,
   "metadata": {},
   "outputs": [
    {
     "data": {
      "text/plain": [
       "\u001b[32mimport \u001b[39m\u001b[36mjava.nio.file._\u001b[39m"
      ]
     },
     "execution_count": 14,
     "metadata": {},
     "output_type": "execute_result"
    }
   ],
   "source": [
    "import java.nio.file._"
   ]
  },
  {
   "cell_type": "code",
   "execution_count": 15,
   "metadata": {},
   "outputs": [
    {
     "data": {
      "text/plain": [
       "\u001b[36mdirname\u001b[39m: \u001b[32mString\u001b[39m = \u001b[32m\"/home/abanihi/devel/myprojects/scala-quest\"\u001b[39m"
      ]
     },
     "execution_count": 15,
     "metadata": {},
     "output_type": "execute_result"
    }
   ],
   "source": [
    "val dirname = \"/home/abanihi/devel/myprojects/scala-quest\""
   ]
  },
  {
   "cell_type": "code",
   "execution_count": 16,
   "metadata": {},
   "outputs": [
    {
     "data": {
      "text/plain": [
       "\u001b[36mentries\u001b[39m: \u001b[32mjava\u001b[39m.\u001b[32mutil\u001b[39m.\u001b[32mstream\u001b[39m.\u001b[32mStream\u001b[39m[\u001b[32mPath\u001b[39m] = java.util.stream.ReferencePipeline$3@2fcc505f"
      ]
     },
     "execution_count": 16,
     "metadata": {},
     "output_type": "execute_result"
    }
   ],
   "source": [
    "val entries = Files.walk(Paths.get(dirname))"
   ]
  },
  {
   "cell_type": "markdown",
   "metadata": {},
   "source": [
    "```scala\n",
    "try {\n",
    "    entries.forEach{p => println(p)}\n",
    "} finally {\n",
    "    entries.close()\n",
    "}\n",
    "```"
   ]
  },
  {
   "cell_type": "markdown",
   "metadata": {
    "heading_collapsed": true
   },
   "source": [
    "# Serialization"
   ]
  },
  {
   "cell_type": "markdown",
   "metadata": {
    "hidden": true
   },
   "source": [
    "- In Java, serialization is used to transmit objects to other virtual machines or for short-term storage.\n",
    "- (For long-term storage, serialization can be awkward—it is tedious to deal with different object\n",
    "versions as classes evolve over time.)\n"
   ]
  },
  {
   "cell_type": "code",
   "execution_count": 17,
   "metadata": {
    "hidden": true
   },
   "outputs": [
    {
     "data": {
      "text/plain": [
       "defined \u001b[32mclass\u001b[39m \u001b[36mPerson\u001b[39m"
      ]
     },
     "execution_count": 17,
     "metadata": {},
     "output_type": "execute_result"
    }
   ],
   "source": [
    "class Person {\n",
    "    var age = 0\n",
    "}\n",
    "\n",
    "\n"
   ]
  },
  {
   "cell_type": "code",
   "execution_count": 18,
   "metadata": {
    "hidden": true
   },
   "outputs": [
    {
     "data": {
      "text/plain": [
       "\u001b[36mfred\u001b[39m: \u001b[32mPerson\u001b[39m = $sess.cmd16Wrapper$Helper$Person@6fa6fa89"
      ]
     },
     "execution_count": 18,
     "metadata": {},
     "output_type": "execute_result"
    }
   ],
   "source": [
    "val fred = new Person()"
   ]
  },
  {
   "cell_type": "code",
   "execution_count": 19,
   "metadata": {
    "hidden": true
   },
   "outputs": [
    {
     "data": {
      "text/plain": [
       "\u001b[32mimport \u001b[39m\u001b[36mjava.io._\u001b[39m"
      ]
     },
     "execution_count": 19,
     "metadata": {},
     "output_type": "execute_result"
    }
   ],
   "source": [
    "import java.io._"
   ]
  },
  {
   "cell_type": "code",
   "execution_count": 20,
   "metadata": {
    "hidden": true
   },
   "outputs": [
    {
     "data": {
      "text/plain": [
       "\u001b[36mout\u001b[39m: \u001b[32mObjectOutputStream\u001b[39m = java.io.ObjectOutputStream@a2e252e4"
      ]
     },
     "execution_count": 20,
     "metadata": {},
     "output_type": "execute_result"
    }
   ],
   "source": [
    "val out = new ObjectOutputStream(new FileOutputStream(\"/tmp/test.obj\"))"
   ]
  },
  {
   "cell_type": "code",
   "execution_count": 21,
   "metadata": {
    "hidden": true
   },
   "outputs": [
    {
     "ename": "",
     "evalue": "",
     "output_type": "error",
     "traceback": [
      "\u001b[31mjava.io.NotSerializableException: $sess.cmd16Wrapper$Helper$Person\u001b[39m",
      "  java.io.ObjectOutputStream.writeObject0(\u001b[32mObjectOutputStream.java\u001b[39m:\u001b[32m1215\u001b[39m)",
      "  java.io.ObjectOutputStream.writeObject(\u001b[32mObjectOutputStream.java\u001b[39m:\u001b[32m365\u001b[39m)",
      "  $sess.cmd20Wrapper$Helper.<init>(\u001b[32mcmd20.sc\u001b[39m:\u001b[32m1\u001b[39m)",
      "  $sess.cmd20Wrapper.<init>(\u001b[32mcmd20.sc\u001b[39m:\u001b[32m321\u001b[39m)",
      "  $sess.cmd20$.<init>(\u001b[32mcmd20.sc\u001b[39m:\u001b[32m249\u001b[39m)",
      "  $sess.cmd20$.<clinit>(\u001b[32mcmd20.sc\u001b[39m:\u001b[32m-1\u001b[39m)"
     ]
    }
   ],
   "source": [
    "out.writeObject(fred)"
   ]
  },
  {
   "cell_type": "code",
   "execution_count": 22,
   "metadata": {
    "hidden": true
   },
   "outputs": [],
   "source": [
    "out.close()"
   ]
  },
  {
   "cell_type": "code",
   "execution_count": 23,
   "metadata": {
    "hidden": true
   },
   "outputs": [
    {
     "data": {
      "text/plain": [
       "\u001b[36min\u001b[39m: \u001b[32mObjectInputStream\u001b[39m = java.io.ObjectInputStream@eead2cc9"
      ]
     },
     "execution_count": 23,
     "metadata": {},
     "output_type": "execute_result"
    }
   ],
   "source": [
    "val in = new ObjectInputStream(new FileInputStream(\"/tmp/test.obj\"))"
   ]
  },
  {
   "cell_type": "code",
   "execution_count": 24,
   "metadata": {
    "hidden": true
   },
   "outputs": [
    {
     "ename": "",
     "evalue": "",
     "output_type": "error",
     "traceback": [
      "\u001b[31mjava.io.WriteAbortedException: writing aborted; java.io.NotSerializableException: $sess.cmd16Wrapper$Helper$Person\u001b[39m",
      "  java.io.ObjectInputStream.readObject0(\u001b[32mObjectInputStream.java\u001b[39m:\u001b[32m1688\u001b[39m)",
      "  java.io.ObjectInputStream.readObjectImpl(\u001b[32mObjectInputStream.java\u001b[39m:\u001b[32m531\u001b[39m)",
      "  java.io.ObjectInputStream.readObject(\u001b[32mObjectInputStream.java\u001b[39m:\u001b[32m466\u001b[39m)",
      "  $sess.cmd23Wrapper$Helper.<init>(\u001b[32mcmd23.sc\u001b[39m:\u001b[32m1\u001b[39m)",
      "  $sess.cmd23Wrapper.<init>(\u001b[32mcmd23.sc\u001b[39m:\u001b[32m337\u001b[39m)",
      "  $sess.cmd23$.<init>(\u001b[32mcmd23.sc\u001b[39m:\u001b[32m257\u001b[39m)",
      "  $sess.cmd23$.<clinit>(\u001b[32mcmd23.sc\u001b[39m:\u001b[32m-1\u001b[39m)",
      "\u001b[31mjava.io.NotSerializableException: $sess.cmd16Wrapper$Helper$Person\u001b[39m",
      "  java.io.ObjectOutputStream.writeObject0(\u001b[32mObjectOutputStream.java\u001b[39m:\u001b[32m1215\u001b[39m)",
      "  java.io.ObjectOutputStream.writeObject(\u001b[32mObjectOutputStream.java\u001b[39m:\u001b[32m365\u001b[39m)",
      "  $sess.cmd20Wrapper$Helper.<init>(\u001b[32mcmd20.sc\u001b[39m:\u001b[32m1\u001b[39m)",
      "  $sess.cmd20Wrapper.<init>(\u001b[32mcmd20.sc\u001b[39m:\u001b[32m321\u001b[39m)",
      "  $sess.cmd20$.<init>(\u001b[32mcmd20.sc\u001b[39m:\u001b[32m249\u001b[39m)",
      "  $sess.cmd20$.<clinit>(\u001b[32mcmd20.sc\u001b[39m:\u001b[32m-1\u001b[39m)"
     ]
    }
   ],
   "source": [
    "val savedFred = in.readObject().asInstanceOf[Person]"
   ]
  },
  {
   "cell_type": "markdown",
   "metadata": {},
   "source": [
    "# Process Control"
   ]
  },
  {
   "cell_type": "code",
   "execution_count": 25,
   "metadata": {},
   "outputs": [
    {
     "data": {
      "text/plain": [
       "\u001b[32mimport \u001b[39m\u001b[36mscala.sys.process._\u001b[39m"
      ]
     },
     "execution_count": 25,
     "metadata": {},
     "output_type": "execute_result"
    }
   ],
   "source": [
    "import scala.sys.process._"
   ]
  },
  {
   "cell_type": "code",
   "execution_count": 28,
   "metadata": {},
   "outputs": [
    {
     "name": "stdout",
     "output_type": "stream",
     "text": [
      "total 12\n",
      "drwxrwxr-x 3 abanihi abanihi 4096 Dec  4 15:19 .\n",
      "drwxrwxr-x 5 abanihi abanihi 4096 Dec  4 15:19 ..\n",
      "drwxrwxr-x 5 abanihi abanihi 4096 Dec  6 11:15 scala-quest\n"
     ]
    },
    {
     "data": {
      "text/plain": [
       "\u001b[36mres27\u001b[39m: \u001b[32mInt\u001b[39m = \u001b[32m0\u001b[39m"
      ]
     },
     "execution_count": 28,
     "metadata": {},
     "output_type": "execute_result"
    }
   ],
   "source": [
    "\"ls -al ..\".!"
   ]
  },
  {
   "cell_type": "code",
   "execution_count": 29,
   "metadata": {},
   "outputs": [
    {
     "data": {
      "text/plain": [
       "\u001b[36mres28\u001b[39m: \u001b[32mString\u001b[39m = \u001b[32m\"\"\"\n",
       "total 12\n",
       "drwxrwxr-x 3 abanihi abanihi 4096 Dec  4 15:19 .\n",
       "drwxrwxr-x 5 abanihi abanihi 4096 Dec  4 15:19 ..\n",
       "drwxrwxr-x 5 abanihi abanihi 4096 Dec  6 11:19 scala-quest\n",
       "\n",
       "\"\"\"\u001b[39m"
      ]
     },
     "execution_count": 29,
     "metadata": {},
     "output_type": "execute_result"
    }
   ],
   "source": [
    "\"ls -al ..\".!!"
   ]
  },
  {
   "cell_type": "markdown",
   "metadata": {},
   "source": [
    "- You can pipe the output of one program into the input of another, using the ```#|``` method:\n"
   ]
  },
  {
   "cell_type": "code",
   "execution_count": 30,
   "metadata": {},
   "outputs": [
    {
     "name": "stdout",
     "output_type": "stream",
     "text": [
      "drwxr-xr-x   2 root root  4096 Jun  2  2017 cdrom\n",
      "drwxr-xr-x   3 root root  4096 Jun  2  2017 home\n",
      "lrwxrwxrwx   1 root root    32 Jun  2  2017 initrd.img -> boot/initrd.img-4.4.0-53-generic\n",
      "drwxr-xr-x   2 root root  4096 Jun 20 23:01 lib32\n",
      "drwxr-xr-x   2 root root  4096 Jun 20 23:01 lib64\n",
      "drwx------   2 root root 16384 Jun  2  2017 lost+found\n",
      "drwxr-xr-x   3 root root  4096 Jun  2  2017 media\n",
      "drwxr-xr-x  34 root root  1120 Dec  6 09:50 run\n",
      "drwxr-xr-x  13 root root  4096 Nov  4 15:25 usr\n",
      "lrwxrwxrwx   1 root root    29 Jun  2  2017 vmlinuz -> boot/vmlinuz-4.4.0-53-generic\n"
     ]
    },
    {
     "data": {
      "text/plain": [
       "\u001b[36mres29\u001b[39m: \u001b[32mInt\u001b[39m = \u001b[32m0\u001b[39m"
      ]
     },
     "execution_count": 30,
     "metadata": {},
     "output_type": "execute_result"
    }
   ],
   "source": [
    "(\"ls -al /\" #| \"grep u\").!"
   ]
  },
  {
   "cell_type": "markdown",
   "metadata": {},
   "source": [
    "- To redirect the output to a file, use the ```#>``` method:"
   ]
  },
  {
   "cell_type": "code",
   "execution_count": 31,
   "metadata": {},
   "outputs": [
    {
     "data": {
      "text/plain": [
       "\u001b[36mres30\u001b[39m: \u001b[32mInt\u001b[39m = \u001b[32m0\u001b[39m"
      ]
     },
     "execution_count": 31,
     "metadata": {},
     "output_type": "execute_result"
    }
   ],
   "source": [
    "(\"ls -al /\" #> new File(\"filelist.txt\")).!"
   ]
  },
  {
   "cell_type": "markdown",
   "metadata": {},
   "source": [
    "- To append to a file, use ```#>>``` instead:\n"
   ]
  },
  {
   "cell_type": "code",
   "execution_count": 32,
   "metadata": {},
   "outputs": [
    {
     "data": {
      "text/plain": [
       "\u001b[36mres31\u001b[39m: \u001b[32mInt\u001b[39m = \u001b[32m0\u001b[39m"
      ]
     },
     "execution_count": 32,
     "metadata": {},
     "output_type": "execute_result"
    }
   ],
   "source": [
    "(\"ls -al /etc\" #>> new File(\"filelist.txt\")).!"
   ]
  },
  {
   "cell_type": "markdown",
   "metadata": {},
   "source": [
    "- To redirect input from a file, use ```#<```:"
   ]
  },
  {
   "cell_type": "code",
   "execution_count": 33,
   "metadata": {},
   "outputs": [
    {
     "name": "stdout",
     "output_type": "stream",
     "text": [
      "drwxr-xr-x   2 root root  4096 Jun  2  2017 cdrom\n",
      "drwxr-xr-x   3 root root  4096 Jun  2  2017 home\n",
      "lrwxrwxrwx   1 root root    32 Jun  2  2017 initrd.img -> boot/initrd.img-4.4.0-53-generic\n",
      "drwxr-xr-x   2 root root  4096 Jun 20 23:01 lib32\n",
      "drwxr-xr-x   2 root root  4096 Jun 20 23:01 lib64\n",
      "drwx------   2 root root 16384 Jun  2  2017 lost+found\n",
      "drwxr-xr-x   3 root root  4096 Jun  2  2017 media\n",
      "drwxr-xr-x  34 root root  1120 Dec  6 09:50 run\n",
      "drwxr-xr-x  13 root root  4096 Nov  4 15:25 usr\n",
      "lrwxrwxrwx   1 root root    29 Jun  2  2017 vmlinuz -> boot/vmlinuz-4.4.0-53-generic\n",
      "-rw-r--r--   1 root root     3028 Jan 25  2017 adduser.conf\n",
      "-rw-r--r--   1 root root       10 Jun  2  2017 adjtime\n",
      "-rw-r--r--   1 root root       45 Aug 12  2015 bash_completion\n",
      "drwxr-xr-x   2 root root     4096 Sep 15 09:38 bluetooth\n",
      "drwxr-xr-x   4 root root     4096 Jun 20 21:53 chromium\n",
      "drwxr-xr-x   3 root root     4096 Jun  2  2017 chromium-browser\n",
      "drwxr-xr-x   2 root root     4096 Jun  2  2017 console-setup\n",
      "drwxr-xr-x   2 root root     4096 Jan 25  2017 cron.hourly\n",
      "drwxr-xr-x   3 root root     4096 Jul 23 18:05 csh\n",
      "-rw-r--r--   1 root root       67 Feb 20  2016 csh.logout\n",
      "drwxr-xr-x   5 root lp       4096 Dec  6 10:44 cups\n",
      "drwxr-xr-x   2 root root     4096 Jan 25  2017 cupshelpers\n",
      "drwxr-xr-x   4 root root     4096 Jun  2  2017 dbus-1\n",
      "drwxr-xr-x   3 root root     4096 Dec  4 08:13 default\n",
      "-rw-r--r--   1 root root      604 Jul  2  2015 deluser.conf\n",
      "drwxr-xr-x   2 root root     4096 Jul 29 00:07 depmod.d\n",
      "drwxr-xr-x   4 root root     4096 Jun  2  2017 dhcp\n",
      "drwxr-xr-x   2 root root     4096 Jun  2  2017 dictionaries-common\n",
      "drwxr-xr-x   2 root root     4096 Jun  2  2017 dnsmasq.d\n",
      "drwxr-xr-x   4 root root     4096 Jun  2  2017 dpkg\n",
      "-rw-r--r--   1 root root     9129 Jul 25 02:40 drirc\n",
      "drwxr-xr-x   2 root root     4096 Aug 14 20:52 elasticsearch\n",
      "drwxr-xr-x   2 root root     4096 Jan 25  2017 esound\n",
      "-rw-r--r--   1 root root     9107 Jun 26  2016 ffserver.conf\n",
      "-rw-r--r--   1 root root      709 Jun  2  2017 fstab\n",
      "-rw-r--r--   1 root root      280 Jun 20  2014 fuse.conf\n",
      "-rw-r--r--   1 root root      331 Aug 17  2016 fwupd.conf\n",
      "drwxr-xr-x   2 root root     4096 Jul 26 22:26 gdb\n",
      "drwxr-xr-x   2 root root     4096 Aug 25 09:31 gnome\n",
      "drwxr-xr-x   2 root root     4096 Aug 14 20:52 groovy2\n",
      "-rw-r--r--   1 root root     1070 Aug 14 20:52 group\n",
      "-rw-------   1 root root     1049 Aug  6 18:40 group-\n",
      "drwxr-xr-x   2 root root     4096 Oct 26 12:10 grub.d\n",
      "-rw-r-----   1 root shadow    897 Aug 14 20:52 gshadow\n",
      "-rw-------   1 root root      879 Aug  6 18:40 gshadow-\n",
      "drwxr-xr-x   2 root root     4096 Aug 10 15:22 gtk-2.0\n",
      "drwxr-xr-x   2 root root     4096 Jun  2  2017 gtk-3.0\n",
      "drwxr-xr-x   3 root root     4096 Jun  4  2017 gufw\n",
      "-rw-r--r--   1 root root        9 Jun  2  2017 hostname\n",
      "-rw-r--r--   1 root root      223 Jun  2  2017 hosts\n",
      "drwxr-xr-x   3 root root     4096 Jan 25  2017 ifplugd\n",
      "-rw-r--r--   1 root root      158 Jun  2  2017 iftab\n",
      "drwxr-xr-x   2 root root     4096 Aug  6 16:44 ImageMagick-6\n",
      "-rw-r--r--   1 root root     1748 Feb  4  2016 inputrc\n",
      "drwxr-xr-x   2 root root     4096 Nov  2 12:54 iproute2\n",
      "-rw-r--r--   1 root root       29 Jul  5 02:10 issue\n",
      "-rw-r--r--   1 root root       21 Jul  5 02:10 issue.net\n",
      "drwxr-xr-x   5 root root     4096 Aug  6 16:44 java-8-openjdk\n",
      "-rw-r--r--   1 root root       81 Aug  5  2016 kde4rc\n",
      "-rw-r--r--   1 root root      110 Jun  2  2017 kernel-img.conf\n",
      "-rw-r--r--   1 root root     1174 Dec 27  2016 ksysguarddrc\n",
      "drwxr-xr-x   2 root root     4096 Jun  2  2017 ldap\n",
      "-rw-r--r--   1 root root      191 Jan 18  2016 libaudit.conf\n",
      "drwxr-xr-x   2 root root     4096 Jun  8 08:21 libnl-3\n",
      "drwxr-xr-x   2 root root     4096 Jun  2  2017 libreoffice\n",
      "drwxr-xr-x   3 root root     4096 Aug 25 09:30 lightdm\n",
      "drwxr-xr-x   4 root root     4096 Aug 25 09:31 linuxmint\n",
      "-rw-r--r--   1 root root     9151 Jun 20 23:05 locale.gen\n",
      "lrwxrwxrwx   1 root root       37 Aug  6 17:11 localtime -> ../usr/share/zoneinfo/America/Chicago\n",
      "drwxr-xr-x   2 root root     4096 Aug 31 21:50 logrotate.d\n",
      "-rw-r--r--   1 root root      195 Jan 25  2017 modules\n",
      "drwxr-xr-x   2 root root     4096 Oct 30 11:52 modules-load.d\n",
      "lrwxrwxrwx   1 root root       19 Jun  2  2017 mtab -> ../proc/self/mounts\n",
      "-rw-r--r--   1 root root      624 Aug  8  2007 mtools.conf\n",
      "drwxr-xr-x   8 root root     4096 Jun  2  2017 NetworkManager\n",
      "drwxr-xr-x   2 root root     4096 Apr  5  2016 ODBCDataSources\n",
      "drwxr-xr-x   3 root root     4096 Jun 23 21:58 OpenCL\n",
      "drwxr-xr-x   2 root root     4096 Aug 29 21:37 openmpi\n",
      "drwxr-xr-x   2 root root     4096 Jun 22 23:09 openvpn\n",
      "drwxr-xr-x   3 root root     4096 Jun 20 21:53 opt\n",
      "lrwxrwxrwx   1 root root       21 Jul  5 02:10 os-release -> ../usr/lib/os-release\n",
      "-rw-r--r--   1 root root        7 Jun  2  2017 papersize\n",
      "-rw-r--r--   1 root root     2457 Aug 14 20:52 passwd\n",
      "-rw-------   1 root root     2457 Aug 14 20:52 passwd-\n",
      "-rw-r--r--   1 root root        3 Jun 23 21:58 prime-discrete\n",
      "lrwxrwxrwx   1 root root       22 Aug 31 21:50 printcap -> /var/run/cups/printcap\n",
      "drwxr-xr-x   2 root root     4096 Jun  2  2017 profile.d\n",
      "drwxr-xr-x   2 root root     4096 Sep 25 21:41 pulse\n",
      "drwxr-xr-x   2 root root     4096 Jun  2  2017 purple\n",
      "drwxr-xr-x   2 root root     4096 Aug 14 20:52 rc0.d\n",
      "drwxr-xr-x   2 root root     4096 Aug 14 20:52 rc1.d\n",
      "drwxr-xr-x   2 root root     4096 Aug 25 09:31 rc4.d\n",
      "drwxr-xr-x   2 root root     4096 Aug 14 20:52 rc6.d\n",
      "drwxr-xr-x   2 root root     4096 Jul  3 20:49 rcS.d\n",
      "-rw-r--r--   1 root root     1889 Dec 10  2015 request-key.conf\n",
      "drwxr-xr-x   2 root root     4096 Jun  2  2017 request-key.d\n",
      "drwxr-xr-x   5 root root     4096 Jun  2  2017 resolvconf\n",
      "lrwxrwxrwx   1 root root       29 Jun  2  2017 resolv.conf -> ../run/resolvconf/resolv.conf\n",
      "drwxr-xr-x   3 root root     4096 Jun  2  2017 sane.d\n",
      "-rw-r--r--   1 root root     4038 Mar 29  2016 securetty\n",
      "drwxr-xr-x   4 root root     4096 Jan 25  2017 security\n",
      "drwxr-xr-x   2 root root     4096 Jan 25  2017 selinux\n",
      "drwxr-xr-x   3 root root     4096 Jun  2  2017 sgml\n",
      "-rw-r-----   1 root shadow   1445 Aug 14 20:52 shadow\n",
      "-rw-------   1 root root     1445 Aug 14 20:52 shadow-\n",
      "-rw-r--r--   1 root root      111 Jul 23 18:05 shells\n",
      "drwxr-xr-x   3 root root     4096 Jan 25  2017 signon-ui\n",
      "drwxr-xr-x   5 root root     4096 Jun  2  2017 skel\n",
      "drwxr-xr-x   2 root root     4096 Jun  2  2017 ssh\n",
      "drwxr-xr-x   4 root root     4096 Jun  8 08:21 ssl\n",
      "-rw-r--r--   1 root root       21 Jun  2  2017 subgid\n",
      "-rw-------   1 root root        0 Jan 25  2017 subgid-\n",
      "-rw-r--r--   1 root root       21 Jun  2  2017 subuid\n",
      "-rw-------   1 root root        0 Jan 25  2017 subuid-\n",
      "drwxr-xr-x   2 root root     4096 Aug 29 21:43 subversion\n",
      "-r--r-----   1 root root      755 Aug 17  2016 sudoers\n",
      "drwxr-xr-x   2 root root     4096 Aug 25 09:31 sudoers.d\n",
      "drwxr-xr-x   2 root root     4096 Jun  2  2017 thermald\n",
      "drwxr-xr-x   2 root root     4096 Oct  3 09:09 thnuclnt\n",
      "-rw-r--r--   1 root root       16 Aug  6 17:11 timezone\n",
      "-rw-r--r--   1 root root     1260 Mar 16  2016 ucf.conf\n",
      "drwxr-xr-x   4 root root     4096 Oct 30 11:53 udev\n",
      "drwxr-xr-x   2 root root     4096 Apr  1  2016 udisks2\n",
      "drwxr-xr-x   3 root root     4096 Jan 25  2017 ufw\n",
      "-rw-r--r--   1 root root      338 Nov 18  2014 updatedb."
     ]
    },
    {
     "data": {
      "text/plain": [
       "\u001b[36mres32\u001b[39m: \u001b[32mInt\u001b[39m = \u001b[32m0\u001b[39m"
      ]
     },
     "execution_count": 33,
     "metadata": {},
     "output_type": "execute_result"
    },
    {
     "name": "stdout",
     "output_type": "stream",
     "text": [
      "conf\n",
      "drwxr-xr-x   3 root root     4096 Oct 31 21:00 update-manager\n",
      "drwxr-xr-x   2 root root     4096 Oct 31 21:00 update-motd.d\n",
      "drwxr-xr-x   2 root root     4096 Aug 17 18:00 update-notifier\n",
      "-rw-r--r--   1 root root      270 May 19  2016 upstart-xsessions\n",
      "drwxr-xr-x   2 root root     4096 Aug 25 09:31 upstream-release\n",
      "-rw-r--r--   1 root root     1018 Oct  5  2015 usb_modeswitch.conf\n",
      "drwxr-xr-x   2 root root     4096 Nov  2  2015 usb_modeswitch.d\n",
      "-rw-r--r--   1 root root       51 Feb 19  2016 vdpau_wrapper.cfg\n",
      "lrwxrwxrwx   1 root root       23 Jun  2  2017 vtrgb -> /etc/alternatives/vtrgb\n",
      "-rw-r--r--   1 root root     4942 Jun 14  2016 wgetrc\n",
      "drwxr-xr-x   2 root root     4096 Jun  2  2017 wildmidi\n",
      "drwxr-xr-x   2 root root     4096 Oct 17 10:49 wpa_supplicant\n",
      "drwxr-xr-x  11 root root     4096 Jun 23 22:02 X11\n",
      "-rw-r--r--   1 root root      477 Jul 19  2015 zsh_command_not_found\n"
     ]
    }
   ],
   "source": [
    "(\"grep u\" #< new File(\"filelist.txt\")).!"
   ]
  },
  {
   "cell_type": "markdown",
   "metadata": {},
   "source": [
    "- You can also redirect input from a URL:"
   ]
  },
  {
   "cell_type": "code",
   "execution_count": null,
   "metadata": {},
   "outputs": [],
   "source": [
    "https://andersy005.github.io/blog/2017/10/20/parallel-computing/"
   ]
  },
  {
   "cell_type": "code",
   "execution_count": 33,
   "metadata": {},
   "outputs": [
    {
     "name": "stderr",
     "output_type": "stream",
     "text": [
      "cmd33.sc:1: not found: type URL\n",
      "val res33 = (\"grep Scala\" #< new URL(\"http://horstmann.com/index.html\")).!\n",
      "                                 ^"
     ]
    },
    {
     "ename": "",
     "evalue": "",
     "output_type": "error",
     "traceback": [
      "Compilation Failed"
     ]
    }
   ],
   "source": [
    "(\"grep Scala\" #< new URL(\"http://horstmann.com/index.html\")).!\n"
   ]
  },
  {
   "cell_type": "code",
   "execution_count": null,
   "metadata": {},
   "outputs": [],
   "source": []
  }
 ],
 "metadata": {
  "kernelspec": {
   "display_name": "Scala",
   "language": "scala",
   "name": "scala"
  },
  "language_info": {
   "codemirror_mode": "text/x-scala",
   "file_extension": ".scala",
   "mimetype": "text/x-scala",
   "name": "scala211",
   "nbconvert_exporter": "script",
   "pygments_lexer": "scala",
   "version": "2.11.11"
  },
  "toc": {
   "nav_menu": {},
   "number_sections": true,
   "sideBar": true,
   "skip_h1_title": false,
   "toc_cell": true,
   "toc_position": {},
   "toc_section_display": "block",
   "toc_window_display": false
  }
 },
 "nbformat": 4,
 "nbformat_minor": 2
}
