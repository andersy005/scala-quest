{
 "cells": [
  {
   "cell_type": "markdown",
   "metadata": {
    "toc": true
   },
   "source": [
    "<h1>Table of Contents<span class=\"tocSkip\"></span></h1>\n",
    "<div class=\"toc\" style=\"margin-top: 1em;\"><ul class=\"toc-item\"><li><span><a href=\"#Extending-a-Class\" data-toc-modified-id=\"Extending-a-Class-1\"><span class=\"toc-item-num\">1&nbsp;&nbsp;</span>Extending a Class</a></span></li><li><span><a href=\"#Overriding-Methods\" data-toc-modified-id=\"Overriding-Methods-2\"><span class=\"toc-item-num\">2&nbsp;&nbsp;</span>Overriding Methods</a></span></li><li><span><a href=\"#Type-Checks-and-Casts\" data-toc-modified-id=\"Type-Checks-and-Casts-3\"><span class=\"toc-item-num\">3&nbsp;&nbsp;</span>Type Checks and Casts</a></span></li></ul></div>"
   ]
  },
  {
   "cell_type": "markdown",
   "metadata": {},
   "source": [
    "# Extending a Class"
   ]
  },
  {
   "cell_type": "markdown",
   "metadata": {},
   "source": [
    "- You extend a class in Scala just like you would in Java—with the ```extends``` keyword:"
   ]
  },
  {
   "cell_type": "code",
   "execution_count": 1,
   "metadata": {},
   "outputs": [
    {
     "data": {
      "text/plain": [
       "defined \u001b[32mclass\u001b[39m \u001b[36mPerson\u001b[39m"
      ]
     },
     "execution_count": 1,
     "metadata": {},
     "output_type": "execute_result"
    }
   ],
   "source": [
    "class Person {\n",
    "    var age = 0\n",
    "}"
   ]
  },
  {
   "cell_type": "code",
   "execution_count": 2,
   "metadata": {},
   "outputs": [
    {
     "data": {
      "text/plain": [
       "defined \u001b[32mclass\u001b[39m \u001b[36mEmployee\u001b[39m"
      ]
     },
     "execution_count": 2,
     "metadata": {},
     "output_type": "execute_result"
    }
   ],
   "source": [
    "class Employee extends Person {\n",
    "    var salary = 0.0\n",
    "}"
   ]
  },
  {
   "cell_type": "markdown",
   "metadata": {},
   "source": [
    "- You can specify fields and methods that are new to the subclass or that override methods in the superclass.\n",
    "\n",
    "- You can declare a class **final** so that it cannot be extended.\n",
    "\n",
    "- You can also declare individual methods or fields **final** so that they cannot be overridden. "
   ]
  },
  {
   "cell_type": "markdown",
   "metadata": {},
   "source": [
    "# Overriding Methods"
   ]
  },
  {
   "cell_type": "markdown",
   "metadata": {},
   "source": [
    "- In Scala, you must use the **override** modifier when you override a method that isn't abstract."
   ]
  },
  {
   "cell_type": "markdown",
   "metadata": {},
   "source": [
    "```scala\n",
    "class Person {\n",
    "    \n",
    "    override def toString = s\"${getClass.getName}[name=$name]\"\n",
    "\n",
    "}\n",
    "```"
   ]
  },
  {
   "cell_type": "markdown",
   "metadata": {},
   "source": [
    "The override modifier can give useful error messages in a number of common situations, such as:\n",
    "- When you misspell the name of the method that you are overriding\n",
    "- When you accidentally provide a wrong parameter type in the overriding method\n",
    "- When you introduce a new method in a superclass that clashes with a subclass method\n"
   ]
  },
  {
   "cell_type": "markdown",
   "metadata": {},
   "source": [
    "Invoking a superclass method in Scala works exactly like in Java, with the keyword ```super```:\n",
    "\n",
    "```scala\n",
    "class Employee extends Person {\n",
    "    ...\n",
    "    override def toString = s\"${super.toString}[salary=$salary]\"\n",
    "}\n",
    "```"
   ]
  },
  {
   "cell_type": "markdown",
   "metadata": {},
   "source": [
    "The call ```super.toString``` invokes the toString method of the superclass—that is, the\n",
    "```Person.toString``` method.\n"
   ]
  },
  {
   "cell_type": "markdown",
   "metadata": {},
   "source": [
    "# Type Checks and Casts"
   ]
  }
 ],
 "metadata": {
  "kernelspec": {
   "display_name": "Scala",
   "language": "scala",
   "name": "scala"
  },
  "language_info": {
   "codemirror_mode": "text/x-scala",
   "file_extension": ".scala",
   "mimetype": "text/x-scala",
   "name": "scala211",
   "nbconvert_exporter": "script",
   "pygments_lexer": "scala",
   "version": "2.11.11"
  },
  "toc": {
   "nav_menu": {},
   "number_sections": true,
   "sideBar": true,
   "skip_h1_title": false,
   "toc_cell": true,
   "toc_position": {},
   "toc_section_display": "block",
   "toc_window_display": false
  }
 },
 "nbformat": 4,
 "nbformat_minor": 2
}
