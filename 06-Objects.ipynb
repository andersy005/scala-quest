{
 "cells": [
  {
   "cell_type": "markdown",
   "metadata": {
    "toc": true
   },
   "source": [
    "<h1>Table of Contents<span class=\"tocSkip\"></span></h1>\n",
    "<div class=\"toc\" style=\"margin-top: 1em;\"><ul class=\"toc-item\"><li><span><a href=\"#Singletons\" data-toc-modified-id=\"Singletons-1\"><span class=\"toc-item-num\">1&nbsp;&nbsp;</span>Singletons</a></span></li><li><span><a href=\"#Companion-Objects\" data-toc-modified-id=\"Companion-Objects-2\"><span class=\"toc-item-num\">2&nbsp;&nbsp;</span>Companion Objects</a></span></li><li><span><a href=\"#Objects-Extending-a-Class-or-Trait\" data-toc-modified-id=\"Objects-Extending-a-Class-or-Trait-3\"><span class=\"toc-item-num\">3&nbsp;&nbsp;</span>Objects Extending a Class or Trait</a></span></li><li><span><a href=\"#The-apply-Method\" data-toc-modified-id=\"The-apply-Method-4\"><span class=\"toc-item-num\">4&nbsp;&nbsp;</span>The <code>apply</code> Method</a></span></li><li><span><a href=\"#Application-Objects\" data-toc-modified-id=\"Application-Objects-5\"><span class=\"toc-item-num\">5&nbsp;&nbsp;</span>Application Objects</a></span></li><li><span><a href=\"#Enumerations\" data-toc-modified-id=\"Enumerations-6\"><span class=\"toc-item-num\">6&nbsp;&nbsp;</span>Enumerations</a></span></li><li><span><a href=\"#Key-Points\" data-toc-modified-id=\"Key-Points-7\"><span class=\"toc-item-num\">7&nbsp;&nbsp;</span>Key Points</a></span></li></ul></div>"
   ]
  },
  {
   "cell_type": "markdown",
   "metadata": {},
   "source": [
    "# Singletons"
   ]
  },
  {
   "cell_type": "markdown",
   "metadata": {},
   "source": [
    "- Scala has no static methods or fields.\n",
    "- Instead, you use the **object** construct.\n",
    "- An object defines a single instance of a class with the features that you want."
   ]
  },
  {
   "cell_type": "code",
   "execution_count": 1,
   "metadata": {},
   "outputs": [
    {
     "data": {
      "text/plain": [
       "defined \u001b[32mobject\u001b[39m \u001b[36mAccounts\u001b[39m"
      ]
     },
     "execution_count": 1,
     "metadata": {},
     "output_type": "execute_result"
    }
   ],
   "source": [
    "object Accounts {\n",
    "    private var lastNumber = 0\n",
    "    def newUniqueNumber () = { lastNumber += 1; lastNumber}\n",
    "}"
   ]
  },
  {
   "cell_type": "markdown",
   "metadata": {},
   "source": [
    "- When you need a new unique account number in your app, call:"
   ]
  },
  {
   "cell_type": "code",
   "execution_count": 2,
   "metadata": {},
   "outputs": [
    {
     "data": {
      "text/plain": [
       "\u001b[36mres1\u001b[39m: \u001b[32mInt\u001b[39m = \u001b[32m1\u001b[39m"
      ]
     },
     "execution_count": 2,
     "metadata": {},
     "output_type": "execute_result"
    }
   ],
   "source": [
    "Accounts.newUniqueNumber()"
   ]
  },
  {
   "cell_type": "markdown",
   "metadata": {},
   "source": [
    "- Use an object in Scala whenever you would have used a singleton object in Java or C++:\n"
   ]
  },
  {
   "cell_type": "markdown",
   "metadata": {},
   "source": [
    "# Companion Objects"
   ]
  },
  {
   "cell_type": "markdown",
   "metadata": {},
   "source": [
    "- In Java or C++, you often have a class with both instance methods and static methods. \n",
    "- In Scala, you can achieve this by having a class and a **companion** object of the same name. "
   ]
  },
  {
   "cell_type": "code",
   "execution_count": 3,
   "metadata": {},
   "outputs": [
    {
     "data": {
      "text/plain": [
       "defined \u001b[32mclass\u001b[39m \u001b[36mAccount\u001b[39m\n",
       "defined \u001b[32mobject\u001b[39m \u001b[36mAccount\u001b[39m"
      ]
     },
     "execution_count": 3,
     "metadata": {},
     "output_type": "execute_result"
    }
   ],
   "source": [
    "class Account {\n",
    "    val id = Account.newUniqueNumber()\n",
    "    private var balance = 0.0\n",
    "    def deposit (amount: Double){\n",
    "        balance += amount\n",
    "    }\n",
    "    \n",
    "}\n",
    "\n",
    "\n",
    "    object Account { // The companion object\n",
    "        private var lastNumber = 0\n",
    "        private def newUniqueNumber() = {lastNumber += 1; lastNumber}\n",
    "    }\n",
    "\n",
    "    "
   ]
  },
  {
   "cell_type": "markdown",
   "metadata": {},
   "source": [
    "# Objects Extending a Class or Trait"
   ]
  },
  {
   "cell_type": "markdown",
   "metadata": {},
   "source": [
    "# The ```apply``` Method"
   ]
  },
  {
   "cell_type": "markdown",
   "metadata": {},
   "source": [
    "- It is common to have objects with an apply method. The apply method is called for expressions of\n",
    "the form ```Object(arg1, ..., argN)```\n",
    "- Typically, such an apply method returns an object of the companion class.\n"
   ]
  },
  {
   "cell_type": "markdown",
   "metadata": {},
   "source": [
    "```scala\n",
    "\n",
    "class Account private (val id: Int, initialBalance: Double) {\n",
    "    private var balance = initialBalance\n",
    "}\n",
    "\n",
    "object Account {\n",
    "    def apply(initialBalance: Double) = \n",
    "        new Account(newUniqueNumber(), initialBalance)\n",
    "\n",
    "}\n",
    "```"
   ]
  },
  {
   "cell_type": "markdown",
   "metadata": {},
   "source": [
    "# Application Objects"
   ]
  },
  {
   "cell_type": "markdown",
   "metadata": {},
   "source": [
    "- Each Scala program must start with an object's ```main``` method of type ```Array[String] => Unit```"
   ]
  },
  {
   "cell_type": "markdown",
   "metadata": {},
   "source": [
    "```scala\n",
    "/* object Hello {\n",
    "    def main(args: Array[String]) {\n",
    "        println(\"Hello, World!\")\n",
    "    }\n",
    "}\n",
    "\n",
    "*/\n",
    "\n",
    "object Hello extends App {\n",
    "    if (args.length > 0)\n",
    "        println(f\"Hello ${args(0)}\")\n",
    "    else\n",
    "        println(\"Hello, World!\")\n",
    "}\n",
    "    \n",
    "```"
   ]
  },
  {
   "cell_type": "markdown",
   "metadata": {},
   "source": [
    "# Enumerations"
   ]
  },
  {
   "cell_type": "markdown",
   "metadata": {},
   "source": [
    "- Unlike Java or C++, Scala does not have enumerated types. However, the standard library provides an **Enumeration** helper class that you can use to produce enumerations."
   ]
  },
  {
   "cell_type": "markdown",
   "metadata": {},
   "source": [
    "- Define an object that extends the **Enumeration** class and Initialize each value in your enumeration with a call to the Value method."
   ]
  },
  {
   "cell_type": "code",
   "execution_count": 6,
   "metadata": {},
   "outputs": [
    {
     "data": {
      "text/plain": [
       "defined \u001b[32mobject\u001b[39m \u001b[36mTrafficLightColor\u001b[39m"
      ]
     },
     "execution_count": 6,
     "metadata": {},
     "output_type": "execute_result"
    }
   ],
   "source": [
    "object TrafficLightColor extends Enumeration {\n",
    "    val Red, Yellow, Green = Value\n",
    "}"
   ]
  },
  {
   "cell_type": "markdown",
   "metadata": {},
   "source": [
    "This is a shortcut for\n",
    "```scala\n",
    "val Red = Value\n",
    "val Yellow = Value\n",
    "val Green = Value\n",
    "```"
   ]
  },
  {
   "cell_type": "markdown",
   "metadata": {},
   "source": [
    "# Key Points\n",
    "\n",
    "- Use objects for singletons and utility methods.\n",
    "- A class can have a companion object with the same name.\n",
    "- Objects can extend classes or traits.\n",
    "- The apply method of an object is usually used for constructing new instances of the\n",
    "companion class.\n",
    "- To avoid the main method, use an object that extends the App trait.\n",
    "- You can implement enumerations by extending the Enumeration object.\n"
   ]
  }
 ],
 "metadata": {
  "kernelspec": {
   "display_name": "Scala",
   "language": "scala",
   "name": "scala"
  },
  "language_info": {
   "codemirror_mode": "text/x-scala",
   "file_extension": ".scala",
   "mimetype": "text/x-scala",
   "name": "scala211",
   "nbconvert_exporter": "script",
   "pygments_lexer": "scala",
   "version": "2.11.11"
  },
  "toc": {
   "nav_menu": {},
   "number_sections": true,
   "sideBar": true,
   "skip_h1_title": false,
   "toc_cell": true,
   "toc_position": {},
   "toc_section_display": "block",
   "toc_window_display": false
  }
 },
 "nbformat": 4,
 "nbformat_minor": 2
}
