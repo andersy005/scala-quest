{
 "cells": [
  {
   "cell_type": "markdown",
   "metadata": {
    "toc": true
   },
   "source": [
    "<h1>Table of Contents<span class=\"tocSkip\"></span></h1>\n",
    "<div class=\"toc\" style=\"margin-top: 1em;\"><ul class=\"toc-item\"><li><span><a href=\"#Constructing-a-Map\" data-toc-modified-id=\"Constructing-a-Map-1\"><span class=\"toc-item-num\">1&nbsp;&nbsp;</span>Constructing a Map</a></span></li><li><span><a href=\"#Accessing-Map-Values\" data-toc-modified-id=\"Accessing-Map-Values-2\"><span class=\"toc-item-num\">2&nbsp;&nbsp;</span>Accessing Map Values</a></span></li><li><span><a href=\"#Updating-Map-Values\" data-toc-modified-id=\"Updating-Map-Values-3\"><span class=\"toc-item-num\">3&nbsp;&nbsp;</span>Updating Map Values</a></span></li><li><span><a href=\"#Iterating-over-Maps\" data-toc-modified-id=\"Iterating-over-Maps-4\"><span class=\"toc-item-num\">4&nbsp;&nbsp;</span>Iterating over Maps</a></span></li><li><span><a href=\"#Sorted-Maps\" data-toc-modified-id=\"Sorted-Maps-5\"><span class=\"toc-item-num\">5&nbsp;&nbsp;</span>Sorted Maps</a></span></li><li><span><a href=\"#Interoperating-with-Java\" data-toc-modified-id=\"Interoperating-with-Java-6\"><span class=\"toc-item-num\">6&nbsp;&nbsp;</span>Interoperating with Java</a></span></li><li><span><a href=\"#Tuples\" data-toc-modified-id=\"Tuples-7\"><span class=\"toc-item-num\">7&nbsp;&nbsp;</span>Tuples</a></span></li><li><span><a href=\"#Zipping\" data-toc-modified-id=\"Zipping-8\"><span class=\"toc-item-num\">8&nbsp;&nbsp;</span>Zipping</a></span></li><li><span><a href=\"#Key-Points\" data-toc-modified-id=\"Key-Points-9\"><span class=\"toc-item-num\">9&nbsp;&nbsp;</span>Key Points</a></span></li></ul></div>"
   ]
  },
  {
   "cell_type": "markdown",
   "metadata": {},
   "source": [
    ">A classic programmer’s saying is, “If you can only have one data structure, make it a hash table.”\n",
    "Hash tables—or, more generally, maps—are among the most versatile data structures. As you will\n",
    "see in this chapter, Scala makes it particularly easy to use them.\n"
   ]
  },
  {
   "cell_type": "markdown",
   "metadata": {},
   "source": [
    "# Constructing a Map"
   ]
  },
  {
   "cell_type": "code",
   "execution_count": 1,
   "metadata": {},
   "outputs": [
    {
     "data": {
      "text/plain": [
       "\u001b[36mscores\u001b[39m: \u001b[32mMap\u001b[39m[\u001b[32mString\u001b[39m, \u001b[32mInt\u001b[39m] = \u001b[33mMap\u001b[39m(\u001b[32m\"Alice\"\u001b[39m -> \u001b[32m10\u001b[39m, \u001b[32m\"Bob\"\u001b[39m -> \u001b[32m3\u001b[39m, \u001b[32m\"Cindy\"\u001b[39m -> \u001b[32m8\u001b[39m)"
      ]
     },
     "execution_count": 1,
     "metadata": {},
     "output_type": "execute_result"
    }
   ],
   "source": [
    "val scores = Map(\"Alice\" -> 10,\n",
    "                 \"Bob\"   -> 3,\n",
    "                 \"Cindy\" -> 8\n",
    "                )"
   ]
  },
  {
   "cell_type": "markdown",
   "metadata": {},
   "source": [
    "This constructs an immutable ```Map[String, Int]``` whose contents can’t be changed. If you want a\n",
    "mutable map, use\n"
   ]
  },
  {
   "cell_type": "code",
   "execution_count": 2,
   "metadata": {},
   "outputs": [
    {
     "data": {
      "text/plain": [
       "\u001b[36mscoresmutable\u001b[39m: \u001b[32mcollection\u001b[39m.\u001b[32mmutable\u001b[39m.\u001b[32mMap\u001b[39m[\u001b[32mString\u001b[39m, \u001b[32mInt\u001b[39m] = \u001b[33mMap\u001b[39m(\u001b[32m\"Bob\"\u001b[39m -> \u001b[32m3\u001b[39m, \u001b[32m\"Alice\"\u001b[39m -> \u001b[32m10\u001b[39m, \u001b[32m\"Cindy\"\u001b[39m -> \u001b[32m8\u001b[39m)"
      ]
     },
     "execution_count": 2,
     "metadata": {},
     "output_type": "execute_result"
    }
   ],
   "source": [
    "val scoresmutable = scala.collection.mutable.Map(\"Alice\" -> 10, \"Bob\" -> 3, \"Cindy\" -> 8)\n"
   ]
  },
  {
   "cell_type": "markdown",
   "metadata": {},
   "source": [
    "If you want to start out with a blank map, you have to supply type parameters:"
   ]
  },
  {
   "cell_type": "code",
   "execution_count": 3,
   "metadata": {},
   "outputs": [
    {
     "data": {
      "text/plain": [
       "\u001b[36mstudents\u001b[39m: \u001b[32mcollection\u001b[39m.\u001b[32mmutable\u001b[39m.\u001b[32mMap\u001b[39m[\u001b[32mString\u001b[39m, \u001b[32mInt\u001b[39m] = \u001b[33mMap\u001b[39m()"
      ]
     },
     "execution_count": 3,
     "metadata": {},
     "output_type": "execute_result"
    }
   ],
   "source": [
    "val students = scala.collection.mutable.Map[String, Int]()"
   ]
  },
  {
   "cell_type": "markdown",
   "metadata": {},
   "source": [
    "# Accessing Map Values"
   ]
  },
  {
   "cell_type": "code",
   "execution_count": 4,
   "metadata": {
    "scrolled": true
   },
   "outputs": [
    {
     "data": {
      "text/plain": [
       "\u001b[36mbobsScore\u001b[39m: \u001b[32mInt\u001b[39m = \u001b[32m3\u001b[39m"
      ]
     },
     "execution_count": 4,
     "metadata": {},
     "output_type": "execute_result"
    }
   ],
   "source": [
    "val bobsScore = scores(\"Bob\")"
   ]
  },
  {
   "cell_type": "markdown",
   "metadata": {},
   "source": [
    "- If the map doesn’t contain a value for the requested key, an exception is thrown.\n",
    "To check whether there is a key with the given value, call the contains method:\n"
   ]
  },
  {
   "cell_type": "code",
   "execution_count": 5,
   "metadata": {},
   "outputs": [
    {
     "data": {
      "text/plain": [
       "\u001b[36mbobsScore\u001b[39m: \u001b[32mInt\u001b[39m = \u001b[32m3\u001b[39m"
      ]
     },
     "execution_count": 5,
     "metadata": {},
     "output_type": "execute_result"
    }
   ],
   "source": [
    "val bobsScore = if (scores.contains(\"Bob\")) scores(\"Bob\") else 0"
   ]
  },
  {
   "cell_type": "markdown",
   "metadata": {},
   "source": [
    "- Since this call combination is so common, there is a shortcut:\n"
   ]
  },
  {
   "cell_type": "code",
   "execution_count": 6,
   "metadata": {},
   "outputs": [
    {
     "data": {
      "text/plain": [
       "\u001b[36mbobsScore\u001b[39m: \u001b[32mInt\u001b[39m = \u001b[32m3\u001b[39m"
      ]
     },
     "execution_count": 6,
     "metadata": {},
     "output_type": "execute_result"
    }
   ],
   "source": [
    "val bobsScore = scores.getOrElse(\"Bob\", 0) // If the map contains the key \"Bob\", return the value; otherwise, return 0.\n"
   ]
  },
  {
   "cell_type": "markdown",
   "metadata": {},
   "source": [
    "- Given an immutable map, you can turn it into a map with a fixed default value for keys that are\n",
    "not present, or a function to compute such values.\n"
   ]
  },
  {
   "cell_type": "code",
   "execution_count": 7,
   "metadata": {},
   "outputs": [
    {
     "data": {
      "text/plain": [
       "\u001b[36mscores1\u001b[39m: \u001b[32mMap\u001b[39m[\u001b[32mString\u001b[39m, \u001b[32mInt\u001b[39m] = \u001b[33mMap\u001b[39m(\u001b[32m\"Alice\"\u001b[39m -> \u001b[32m10\u001b[39m, \u001b[32m\"Bob\"\u001b[39m -> \u001b[32m3\u001b[39m, \u001b[32m\"Cindy\"\u001b[39m -> \u001b[32m8\u001b[39m)"
      ]
     },
     "execution_count": 7,
     "metadata": {},
     "output_type": "execute_result"
    }
   ],
   "source": [
    "val scores1 = scores.withDefaultValue(0)"
   ]
  },
  {
   "cell_type": "code",
   "execution_count": 8,
   "metadata": {},
   "outputs": [
    {
     "data": {
      "text/plain": [
       "\u001b[36mzeldaScore1\u001b[39m: \u001b[32mOption\u001b[39m[\u001b[32mInt\u001b[39m] = None"
      ]
     },
     "execution_count": 8,
     "metadata": {},
     "output_type": "execute_result"
    }
   ],
   "source": [
    "val zeldaScore1 = scores1.get(\"Zelda\")"
   ]
  },
  {
   "cell_type": "code",
   "execution_count": 9,
   "metadata": {},
   "outputs": [
    {
     "data": {
      "text/plain": [
       "\u001b[36mscores2\u001b[39m: \u001b[32mMap\u001b[39m[\u001b[32mString\u001b[39m, \u001b[32mInt\u001b[39m] = \u001b[33mMap\u001b[39m(\u001b[32m\"Alice\"\u001b[39m -> \u001b[32m10\u001b[39m, \u001b[32m\"Bob\"\u001b[39m -> \u001b[32m3\u001b[39m, \u001b[32m\"Cindy\"\u001b[39m -> \u001b[32m8\u001b[39m)"
      ]
     },
     "execution_count": 9,
     "metadata": {},
     "output_type": "execute_result"
    }
   ],
   "source": [
    "val scores2 = scores.withDefault(_.length)"
   ]
  },
  {
   "cell_type": "code",
   "execution_count": 10,
   "metadata": {},
   "outputs": [
    {
     "data": {
      "text/plain": [
       "\u001b[36mzeldasScore2\u001b[39m: \u001b[32mOption\u001b[39m[\u001b[32mInt\u001b[39m] = None"
      ]
     },
     "execution_count": 10,
     "metadata": {},
     "output_type": "execute_result"
    }
   ],
   "source": [
    "val zeldasScore2 = scores2.get(\"Zelda\")"
   ]
  },
  {
   "cell_type": "markdown",
   "metadata": {},
   "source": [
    "# Updating Map Values"
   ]
  },
  {
   "cell_type": "markdown",
   "metadata": {},
   "source": [
    "- In a mutable map, you can update a map value, or add a new one, with a ```()``` to the left of an ```=``` sign:\n"
   ]
  },
  {
   "cell_type": "code",
   "execution_count": 11,
   "metadata": {},
   "outputs": [
    {
     "data": {
      "text/plain": [
       "\u001b[36mres10\u001b[39m: \u001b[32mcollection\u001b[39m.\u001b[32mmutable\u001b[39m.\u001b[32mMap\u001b[39m[\u001b[32mString\u001b[39m, \u001b[32mInt\u001b[39m] = \u001b[33mMap\u001b[39m(\u001b[32m\"Bob\"\u001b[39m -> \u001b[32m3\u001b[39m, \u001b[32m\"Alice\"\u001b[39m -> \u001b[32m10\u001b[39m, \u001b[32m\"Cindy\"\u001b[39m -> \u001b[32m8\u001b[39m)"
      ]
     },
     "execution_count": 11,
     "metadata": {},
     "output_type": "execute_result"
    }
   ],
   "source": [
    "scoresmutable"
   ]
  },
  {
   "cell_type": "code",
   "execution_count": 12,
   "metadata": {},
   "outputs": [],
   "source": [
    "scoresmutable(\"Bob\") = 10"
   ]
  },
  {
   "cell_type": "code",
   "execution_count": 13,
   "metadata": {},
   "outputs": [
    {
     "data": {
      "text/plain": [
       "\u001b[36mres12_1\u001b[39m: \u001b[32mcollection\u001b[39m.\u001b[32mmutable\u001b[39m.\u001b[32mMap\u001b[39m[\u001b[32mString\u001b[39m, \u001b[32mInt\u001b[39m] = \u001b[33mMap\u001b[39m(\u001b[32m\"Bob\"\u001b[39m -> \u001b[32m10\u001b[39m, \u001b[32m\"Fred\"\u001b[39m -> \u001b[32m7\u001b[39m, \u001b[32m\"Alice\"\u001b[39m -> \u001b[32m10\u001b[39m, \u001b[32m\"Cindy\"\u001b[39m -> \u001b[32m8\u001b[39m)"
      ]
     },
     "execution_count": 13,
     "metadata": {},
     "output_type": "execute_result"
    }
   ],
   "source": [
    "scoresmutable(\"Fred\") = 7\n",
    "scoresmutable"
   ]
  },
  {
   "cell_type": "markdown",
   "metadata": {},
   "source": [
    "- Alternatively"
   ]
  },
  {
   "cell_type": "code",
   "execution_count": 15,
   "metadata": {},
   "outputs": [
    {
     "data": {
      "text/plain": [
       "\u001b[36mres14\u001b[39m: \u001b[32mcollection\u001b[39m.\u001b[32mmutable\u001b[39m.\u001b[32mMap\u001b[39m[\u001b[32mString\u001b[39m, \u001b[32mInt\u001b[39m] = \u001b[33mMap\u001b[39m(\u001b[32m\"Bob\"\u001b[39m -> \u001b[32m10\u001b[39m, \u001b[32m\"Fred\"\u001b[39m -> \u001b[32m7\u001b[39m, \u001b[32m\"Alice\"\u001b[39m -> \u001b[32m10\u001b[39m, \u001b[32m\"Andrew\"\u001b[39m -> \u001b[32m52\u001b[39m, \u001b[32m\"Cindy\"\u001b[39m -> \u001b[32m8\u001b[39m)"
      ]
     },
     "execution_count": 15,
     "metadata": {},
     "output_type": "execute_result"
    }
   ],
   "source": [
    "scoresmutable += (\"Andrew\" -> 52)\n"
   ]
  },
  {
   "cell_type": "code",
   "execution_count": 16,
   "metadata": {},
   "outputs": [
    {
     "data": {
      "text/plain": [
       "\u001b[36mres15\u001b[39m: \u001b[32mcollection\u001b[39m.\u001b[32mmutable\u001b[39m.\u001b[32mMap\u001b[39m[\u001b[32mString\u001b[39m, \u001b[32mInt\u001b[39m] = \u001b[33mMap\u001b[39m(\u001b[32m\"Bob\"\u001b[39m -> \u001b[32m10\u001b[39m, \u001b[32m\"Fred\"\u001b[39m -> \u001b[32m7\u001b[39m, \u001b[32m\"Andrew\"\u001b[39m -> \u001b[32m52\u001b[39m, \u001b[32m\"Cindy\"\u001b[39m -> \u001b[32m8\u001b[39m)"
      ]
     },
     "execution_count": 16,
     "metadata": {},
     "output_type": "execute_result"
    }
   ],
   "source": [
    "scoresmutable -= \"Alice\""
   ]
  },
  {
   "cell_type": "markdown",
   "metadata": {},
   "source": [
    "- You can’t update an immutable map, but you can do something that’s just as useful—obtain a new\n",
    "map that has the desired update:\n"
   ]
  },
  {
   "cell_type": "code",
   "execution_count": 17,
   "metadata": {},
   "outputs": [
    {
     "data": {
      "text/plain": [
       "\u001b[36mres16\u001b[39m: \u001b[32mMap\u001b[39m[\u001b[32mString\u001b[39m, \u001b[32mInt\u001b[39m] = \u001b[33mMap\u001b[39m(\u001b[32m\"Alice\"\u001b[39m -> \u001b[32m10\u001b[39m, \u001b[32m\"Bob\"\u001b[39m -> \u001b[32m3\u001b[39m, \u001b[32m\"Cindy\"\u001b[39m -> \u001b[32m8\u001b[39m)"
      ]
     },
     "execution_count": 17,
     "metadata": {},
     "output_type": "execute_result"
    }
   ],
   "source": [
    "scores"
   ]
  },
  {
   "cell_type": "code",
   "execution_count": 18,
   "metadata": {},
   "outputs": [
    {
     "data": {
      "text/plain": [
       "\u001b[36mnewScores\u001b[39m: \u001b[32mMap\u001b[39m[\u001b[32mString\u001b[39m, \u001b[32mInt\u001b[39m] = \u001b[33mMap\u001b[39m(\u001b[32m\"Alice\"\u001b[39m -> \u001b[32m10\u001b[39m, \u001b[32m\"Bob\"\u001b[39m -> \u001b[32m20\u001b[39m, \u001b[32m\"Cindy\"\u001b[39m -> \u001b[32m8\u001b[39m, \u001b[32m\"Fred\"\u001b[39m -> \u001b[32m19\u001b[39m)"
      ]
     },
     "execution_count": 18,
     "metadata": {},
     "output_type": "execute_result"
    }
   ],
   "source": [
    "val newScores = scores + (\"Bob\" -> 20, \"Fred\" -> 19)"
   ]
  },
  {
   "cell_type": "markdown",
   "metadata": {},
   "source": [
    "# Iterating over Maps"
   ]
  },
  {
   "cell_type": "markdown",
   "metadata": {},
   "source": [
    "The following amazingly simple loop iterates over all key/value pairs of a map:\n",
    "\n",
    "- ```for ((k, v) <- map) process k and v```\n"
   ]
  },
  {
   "cell_type": "code",
   "execution_count": 19,
   "metadata": {},
   "outputs": [
    {
     "data": {
      "text/plain": [
       "\u001b[36mres18\u001b[39m: \u001b[32mSet\u001b[39m[\u001b[32mString\u001b[39m] = \u001b[33mSet\u001b[39m(\u001b[32m\"Alice\"\u001b[39m, \u001b[32m\"Bob\"\u001b[39m, \u001b[32m\"Cindy\"\u001b[39m)"
      ]
     },
     "execution_count": 19,
     "metadata": {},
     "output_type": "execute_result"
    }
   ],
   "source": [
    "scores.keySet"
   ]
  },
  {
   "cell_type": "code",
   "execution_count": 20,
   "metadata": {},
   "outputs": [
    {
     "name": "stdout",
     "output_type": "stream",
     "text": [
      "10\n",
      "3\n",
      "8\n"
     ]
    }
   ],
   "source": [
    "for (v <- scores.values) println(v)"
   ]
  },
  {
   "cell_type": "markdown",
   "metadata": {},
   "source": [
    "- To reverse a map—that is, switch keys and values—use\n",
    "\n",
    "```for ((k, v) <- map) yield (v, k)```\n"
   ]
  },
  {
   "cell_type": "code",
   "execution_count": 21,
   "metadata": {},
   "outputs": [
    {
     "data": {
      "text/plain": [
       "\u001b[36mres20\u001b[39m: \u001b[32mMap\u001b[39m[\u001b[32mInt\u001b[39m, \u001b[32mString\u001b[39m] = \u001b[33mMap\u001b[39m(\u001b[32m10\u001b[39m -> \u001b[32m\"Alice\"\u001b[39m, \u001b[32m3\u001b[39m -> \u001b[32m\"Bob\"\u001b[39m, \u001b[32m8\u001b[39m -> \u001b[32m\"Cindy\"\u001b[39m)"
      ]
     },
     "execution_count": 21,
     "metadata": {},
     "output_type": "execute_result"
    }
   ],
   "source": [
    "for ((name, score) <- scores) yield (score, name)"
   ]
  },
  {
   "cell_type": "markdown",
   "metadata": {},
   "source": [
    "# Sorted Maps"
   ]
  },
  {
   "cell_type": "markdown",
   "metadata": {},
   "source": [
    "- There are two common implementation strategies for maps: **hash tables and balanced trees**. \n",
    "- Hash tables use the hash codes of the keys to scramble entries, so iterating over the elements yields them in unpredictable order. - By default, Scala gives you a map based on a hash table because it is usually more efficient. \n",
    "- If you need to visit the keys in sorted order, use a SortedMap instead.\n"
   ]
  },
  {
   "cell_type": "code",
   "execution_count": 23,
   "metadata": {},
   "outputs": [
    {
     "data": {
      "text/plain": [
       "\u001b[36mscoresSorted\u001b[39m: \u001b[32mcollection\u001b[39m.\u001b[32mSortedMap\u001b[39m[\u001b[32mString\u001b[39m, \u001b[32mInt\u001b[39m] = \u001b[33mMap\u001b[39m(\u001b[32m\"Alice\"\u001b[39m -> \u001b[32m10\u001b[39m, \u001b[32m\"Bob\"\u001b[39m -> \u001b[32m9\u001b[39m, \u001b[32m\"Fred\"\u001b[39m -> \u001b[32m59\u001b[39m)"
      ]
     },
     "execution_count": 23,
     "metadata": {},
     "output_type": "execute_result"
    }
   ],
   "source": [
    "val scoresSorted = scala.collection.SortedMap(\"Alice\" -> 10, \"Fred\" -> 59, \"Bob\" -> 9)"
   ]
  },
  {
   "cell_type": "markdown",
   "metadata": {},
   "source": [
    "# Interoperating with Java"
   ]
  },
  {
   "cell_type": "markdown",
   "metadata": {},
   "source": [
    "- If you get a Java map from calling a Java method, you may want to convert it to a Scala map so that\n",
    "you can use the pleasant Scala map API. This is also useful if you want to work with a mutable tree\n",
    "map, which Scala doesn’t provide.\n"
   ]
  },
  {
   "cell_type": "code",
   "execution_count": 24,
   "metadata": {},
   "outputs": [
    {
     "data": {
      "text/plain": [
       "\u001b[32mimport \u001b[39m\u001b[36mscala.collection.JavaConversions.mapAsScalaMap\u001b[39m"
      ]
     },
     "execution_count": 24,
     "metadata": {},
     "output_type": "execute_result"
    }
   ],
   "source": [
    "import scala.collection.JavaConversions.mapAsScalaMap"
   ]
  },
  {
   "cell_type": "code",
   "execution_count": 25,
   "metadata": {},
   "outputs": [
    {
     "data": {
      "text/plain": [
       "\u001b[36mnewscores\u001b[39m: \u001b[32mcollection\u001b[39m.\u001b[32mmutable\u001b[39m.\u001b[32mMap\u001b[39m[\u001b[32mString\u001b[39m, \u001b[32mInt\u001b[39m] = \u001b[33mMap\u001b[39m()"
      ]
     },
     "execution_count": 25,
     "metadata": {},
     "output_type": "execute_result"
    }
   ],
   "source": [
    "val newscores: scala.collection.mutable.Map[String, Int] = new java.util.TreeMap[String, Int]"
   ]
  },
  {
   "cell_type": "markdown",
   "metadata": {},
   "source": [
    "# Tuples"
   ]
  },
  {
   "cell_type": "markdown",
   "metadata": {},
   "source": [
    "Maps are collections of key/value pairs. Pairs are the simplest case of tuples—aggregates of values\n",
    "of different types.\n"
   ]
  },
  {
   "cell_type": "code",
   "execution_count": 26,
   "metadata": {},
   "outputs": [
    {
     "data": {
      "text/plain": [
       "\u001b[36mt\u001b[39m: (\u001b[32mInt\u001b[39m, \u001b[32mDouble\u001b[39m, \u001b[32mString\u001b[39m) = (\u001b[32m1\u001b[39m, \u001b[32m3.14\u001b[39m, \u001b[32m\"Fred\"\u001b[39m)"
      ]
     },
     "execution_count": 26,
     "metadata": {},
     "output_type": "execute_result"
    }
   ],
   "source": [
    "val t = (1, 3.14, \"Fred\")"
   ]
  },
  {
   "cell_type": "code",
   "execution_count": 27,
   "metadata": {},
   "outputs": [
    {
     "data": {
      "text/plain": [
       "\u001b[36msecond\u001b[39m: \u001b[32mDouble\u001b[39m = \u001b[32m3.14\u001b[39m"
      ]
     },
     "execution_count": 27,
     "metadata": {},
     "output_type": "execute_result"
    }
   ],
   "source": [
    "val second = t._2 "
   ]
  },
  {
   "cell_type": "markdown",
   "metadata": {},
   "source": [
    "- Unlike array or string positions, the component positions of a tuple start with 1, not 0."
   ]
  },
  {
   "cell_type": "markdown",
   "metadata": {},
   "source": [
    "You can write t._2 as t_2 (with a space instead of a period), but not t_2.\n"
   ]
  },
  {
   "cell_type": "code",
   "execution_count": 28,
   "metadata": {},
   "outputs": [
    {
     "data": {
      "text/plain": [
       "\u001b[36mres27\u001b[39m: \u001b[32mDouble\u001b[39m = \u001b[32m3.14\u001b[39m"
      ]
     },
     "execution_count": 28,
     "metadata": {},
     "output_type": "execute_result"
    }
   ],
   "source": [
    "t._2"
   ]
  },
  {
   "cell_type": "code",
   "execution_count": 29,
   "metadata": {},
   "outputs": [
    {
     "data": {
      "text/plain": [
       "\u001b[36mres28\u001b[39m: \u001b[32mDouble\u001b[39m = \u001b[32m3.14\u001b[39m"
      ]
     },
     "execution_count": 29,
     "metadata": {},
     "output_type": "execute_result"
    }
   ],
   "source": [
    "t _2"
   ]
  },
  {
   "cell_type": "markdown",
   "metadata": {},
   "source": [
    "- Usually, it is better to use pattern matching to get at the components of a tuple, for example\n"
   ]
  },
  {
   "cell_type": "code",
   "execution_count": 30,
   "metadata": {},
   "outputs": [
    {
     "data": {
      "text/plain": [
       "\u001b[36mfirst\u001b[39m: \u001b[32mInt\u001b[39m = \u001b[32m1\u001b[39m\n",
       "\u001b[36msecond\u001b[39m: \u001b[32mDouble\u001b[39m = \u001b[32m3.14\u001b[39m\n",
       "\u001b[36mthird\u001b[39m: \u001b[32mString\u001b[39m = \u001b[32m\"Fred\"\u001b[39m"
      ]
     },
     "execution_count": 30,
     "metadata": {},
     "output_type": "execute_result"
    }
   ],
   "source": [
    "val (first, second, third) = t"
   ]
  },
  {
   "cell_type": "markdown",
   "metadata": {},
   "source": [
    "- You can use a _ if you don’t need all components:\n"
   ]
  },
  {
   "cell_type": "code",
   "execution_count": 31,
   "metadata": {},
   "outputs": [
    {
     "data": {
      "text/plain": [
       "\u001b[36mfirst\u001b[39m: \u001b[32mInt\u001b[39m = \u001b[32m1\u001b[39m\n",
       "\u001b[36msecond\u001b[39m: \u001b[32mDouble\u001b[39m = \u001b[32m3.14\u001b[39m"
      ]
     },
     "execution_count": 31,
     "metadata": {},
     "output_type": "execute_result"
    }
   ],
   "source": [
    "val (first, second, _) = t"
   ]
  },
  {
   "cell_type": "markdown",
   "metadata": {},
   "source": [
    "- Tuples are useful for functions that return more than one value. For example, the partition\n",
    "method of the StringOps class returns a pair of strings, containing the characters that fulfill a\n",
    "condition and those that don’t:\n"
   ]
  },
  {
   "cell_type": "code",
   "execution_count": 32,
   "metadata": {},
   "outputs": [
    {
     "data": {
      "text/plain": [
       "\u001b[36mres31\u001b[39m: (\u001b[32mString\u001b[39m, \u001b[32mString\u001b[39m) = (\u001b[32m\"NY\"\u001b[39m, \u001b[32m\"ew ork\"\u001b[39m)"
      ]
     },
     "execution_count": 32,
     "metadata": {},
     "output_type": "execute_result"
    }
   ],
   "source": [
    "\"New York\".partition(_.isUpper)"
   ]
  },
  {
   "cell_type": "markdown",
   "metadata": {},
   "source": [
    "# Zipping"
   ]
  },
  {
   "cell_type": "markdown",
   "metadata": {},
   "source": [
    "- One reason for using tuples is to bundle together values so that they can be processed together. This is\n",
    "commonly done with the zip method. For example, the code\n"
   ]
  },
  {
   "cell_type": "code",
   "execution_count": 33,
   "metadata": {},
   "outputs": [
    {
     "data": {
      "text/plain": [
       "\u001b[36msymbols\u001b[39m: \u001b[32mArray\u001b[39m[\u001b[32mString\u001b[39m] = \u001b[33mArray\u001b[39m(\u001b[32m\"<\"\u001b[39m, \u001b[32m\"-\"\u001b[39m, \u001b[32m\">\"\u001b[39m)\n",
       "\u001b[36mcounts\u001b[39m: \u001b[32mArray\u001b[39m[\u001b[32mInt\u001b[39m] = \u001b[33mArray\u001b[39m(\u001b[32m2\u001b[39m, \u001b[32m10\u001b[39m, \u001b[32m2\u001b[39m)"
      ]
     },
     "execution_count": 33,
     "metadata": {},
     "output_type": "execute_result"
    }
   ],
   "source": [
    "val symbols = Array(\"<\", \"-\", \">\")\n",
    "val counts = Array(2, 10, 2)\n"
   ]
  },
  {
   "cell_type": "code",
   "execution_count": 34,
   "metadata": {},
   "outputs": [
    {
     "data": {
      "text/plain": [
       "\u001b[36mpairs\u001b[39m: \u001b[32mArray\u001b[39m[(\u001b[32mString\u001b[39m, \u001b[32mInt\u001b[39m)] = \u001b[33mArray\u001b[39m((\u001b[32m\"<\"\u001b[39m, \u001b[32m2\u001b[39m), (\u001b[32m\"-\"\u001b[39m, \u001b[32m10\u001b[39m), (\u001b[32m\">\"\u001b[39m, \u001b[32m2\u001b[39m))"
      ]
     },
     "execution_count": 34,
     "metadata": {},
     "output_type": "execute_result"
    }
   ],
   "source": [
    "val pairs = symbols.zip(counts)"
   ]
  },
  {
   "cell_type": "code",
   "execution_count": 35,
   "metadata": {},
   "outputs": [
    {
     "name": "stdout",
     "output_type": "stream",
     "text": [
      "<<---------->>"
     ]
    }
   ],
   "source": [
    "for ((s, n) <- pairs) print(s * n)"
   ]
  },
  {
   "cell_type": "markdown",
   "metadata": {},
   "source": [
    "- The ```toMap``` method turns a collection of pairs into a map.\n",
    "If you have a collection of keys and a parallel collection of values, zip them up and turn them\n",
    "into a map like this:\n"
   ]
  },
  {
   "cell_type": "code",
   "execution_count": 36,
   "metadata": {},
   "outputs": [
    {
     "data": {
      "text/plain": [
       "\u001b[36mres35\u001b[39m: \u001b[32mMap\u001b[39m[\u001b[32mString\u001b[39m, \u001b[32mInt\u001b[39m] = \u001b[33mMap\u001b[39m(\u001b[32m\"<\"\u001b[39m -> \u001b[32m2\u001b[39m, \u001b[32m\"-\"\u001b[39m -> \u001b[32m10\u001b[39m, \u001b[32m\">\"\u001b[39m -> \u001b[32m2\u001b[39m)"
      ]
     },
     "execution_count": 36,
     "metadata": {},
     "output_type": "execute_result"
    }
   ],
   "source": [
    "pairs.toMap"
   ]
  },
  {
   "cell_type": "code",
   "execution_count": 41,
   "metadata": {},
   "outputs": [
    {
     "data": {
      "text/plain": [
       "\u001b[36mres40\u001b[39m: \u001b[32mMap\u001b[39m[\u001b[32mObject\u001b[39m, \u001b[32mObject\u001b[39m] = \u001b[33mMap\u001b[39m(\n",
       "  java.io.tmpdir -> /tmp,\n",
       "  coursier.main.arg-11 -> org.jupyter-scala:scala-cli_2.11.11:0.4.2,\n",
       "  bootstrap.mainClass -> coursier.cli.Coursier,\n",
       "  com.ibm.oti.shared.enabled -> false,\n",
       "  line.separator -> \n",
       ",\n",
       "  path.separator -> :,\n",
       "  coursier.main.arg-6 -> ammonite,\n",
       "  sun.cpu.endian -> little,\n",
       "  java.specification.version -> 1.8,\n",
       "  java.vm.specification.name -> Java Virtual Machine Specification,\n",
       "\u001b[33m...\u001b[39m"
      ]
     },
     "execution_count": 41,
     "metadata": {},
     "output_type": "execute_result"
    }
   ],
   "source": [
    "java.lang.System.getProperties.toMap"
   ]
  },
  {
   "cell_type": "markdown",
   "metadata": {},
   "source": [
    "# Key Points"
   ]
  },
  {
   "cell_type": "markdown",
   "metadata": {},
   "source": [
    "- Scala has a pleasant syntax for creating, querying, and traversing maps\n",
    "-  You need to choose between mutable and immutable maps.\n",
    "- By default, you get a hash map, but you can also get a tree map.\n",
    "- You can easily convert between Scala and Java maps.\n",
    "- Tuples are useful for aggregating values.\n"
   ]
  }
 ],
 "metadata": {
  "kernelspec": {
   "display_name": "Scala",
   "language": "scala",
   "name": "scala"
  },
  "language_info": {
   "codemirror_mode": "text/x-scala",
   "file_extension": ".scala",
   "mimetype": "text/x-scala",
   "name": "scala211",
   "nbconvert_exporter": "script",
   "pygments_lexer": "scala",
   "version": "2.11.11"
  },
  "toc": {
   "nav_menu": {},
   "number_sections": true,
   "sideBar": false,
   "skip_h1_title": false,
   "toc_cell": true,
   "toc_position": {
    "height": "409px",
    "left": "79px",
    "right": "661px",
    "top": "0px",
    "width": "212px"
   },
   "toc_section_display": "block",
   "toc_window_display": false
  }
 },
 "nbformat": 4,
 "nbformat_minor": 2
}
